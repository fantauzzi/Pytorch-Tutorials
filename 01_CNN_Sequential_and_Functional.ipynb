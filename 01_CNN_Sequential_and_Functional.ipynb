{
 "cells": [
  {
   "cell_type": "markdown",
   "metadata": {},
   "source": [
    "# Pytorch Tutorial #01\n",
    "# CNN with Pytorch Sequential and Functional API\n",
    "\n",
    "by Francesco G. Fantauzzi\n",
    "/ [GitHub](https://github.com/fantauzzi/Pytorch-Tutorials)\n",
    "\n",
    "Adapted from [Magnus Erik Hvass Pedersen](http://www.hvass-labs.org/) tutorial\n",
    "/ [GitHub](https://github.com/Hvass-Labs/TensorFlow-Tutorials/03C_Keras_API.ipynb) / [Videos on YouTube](https://www.youtube.com/playlist?list=PL9Hr9sNUjfsmEu1ZniY0XpHSzl5uihcXZ)"
   ]
  },
  {
   "cell_type": "markdown",
   "metadata": {},
   "source": [
    "## Introduction\n",
    "\n",
    "This tutorial uses Pytorch to implement a Convolutional Neural Network (CNN) for handwritten digits recognition, trained on the MNIST dataset. The tutorial demonstrates two different programming styles to define the Neural Network model, called \"sequential\" and \"functional\", supported by Pytorch. \n",
    "\n",
    "Interestingly enough, Keras already supports two similar programming styles for model definition. Unlike Keras, Pytorch currently doesn't infer the shape of the tensors going into a layer based on the output of the previous layer; the programmer needs to code it. At least, determining the shape of a tensor with Pytorch is as easy as inspecting a variable via debugger.\n",
    "\n",
    "I have ported Magnus Pedersen's fine [tutorial](https://github.com/Hvass-Labs/TensorFlow-Tutorials) from Keras/Tensorflow to Pytorch, as a self-teaching exercise. I appreciated how easier it is to debug a model with Pytorch, as one can step through the computation and inspect any tensor or variable with a Python debugger, like for any Python program.\n",
    "\n",
    "In porting Mr. Pedersen's tutorial I have reworked the code to use Pytorch API, and updated the narrative conequently, keeping what I could."
   ]
  },
  {
   "cell_type": "markdown",
   "metadata": {},
   "source": [
    "## Flowchart"
   ]
  },
  {
   "cell_type": "markdown",
   "metadata": {},
   "source": [
    "The following chart shows roughly how the data flows in the Convolutional Neural Network that is implemented below. See Tutorial #02 of Mr. Pedersen's for a more detailed description of convolution.\n",
    "\n",
    "There are two convolutional layers, each followed by a RELU and down-sampling using max-pooling (not shown in this flowchart). Then there are two fully-connected layers ending in a classifier.\n",
    "\n",
    "In the original Keras tutorial the model outputs a softmax classification, while the model implemented below with Pytorch outputs just 10 scores, not probabilities. This is because of the adopted loss function, see below for more information on this. As a consequence, with our Pytorch model the 10 features in the Output Layer don't usually add up to 1."
   ]
  },
  {
   "cell_type": "markdown",
   "metadata": {},
   "source": [
    "![Flowchart](images/02_network_flowchart.png)"
   ]
  },
  {
   "cell_type": "markdown",
   "metadata": {},
   "source": [
    "## Imports"
   ]
  },
  {
   "cell_type": "code",
   "execution_count": 1,
   "metadata": {},
   "outputs": [],
   "source": [
    "%matplotlib inline\n",
    "import math\n",
    "import sys\n",
    "import matplotlib.pyplot as plt\n",
    "import numpy as np\n",
    "from tqdm import tqdm\n",
    "import torch\n",
    "import torch.nn as nn\n",
    "import torch.nn.functional as F\n",
    "import torch.optim as optim\n",
    "from torch.nn.parameter import Parameter\n",
    "from torchvision import datasets, transforms\n",
    "from torch.autograd import Variable"
   ]
  },
  {
   "cell_type": "markdown",
   "metadata": {},
   "source": [
    "##### This was developed using Python 3.5 and Pytorch version:"
   ]
  },
  {
   "cell_type": "code",
   "execution_count": 2,
   "metadata": {
    "scrolled": true
   },
   "outputs": [
    {
     "data": {
      "text/plain": [
       "'0.3.0.post4'"
      ]
     },
     "execution_count": 2,
     "metadata": {},
     "output_type": "execute_result"
    }
   ],
   "source": [
    "torch.__version__"
   ]
  },
  {
   "cell_type": "markdown",
   "metadata": {},
   "source": [
    "## Set the Dataset Loaders"
   ]
  },
  {
   "cell_type": "markdown",
   "metadata": {},
   "source": [
    "The MNIST data-set is about 12 MB and will be downloaded automatically if it is not located in the given path."
   ]
  },
  {
   "cell_type": "code",
   "execution_count": 3,
   "metadata": {},
   "outputs": [],
   "source": [
    "cuda = torch.cuda.is_available()\n",
    "\n",
    "batch_size = 128\n",
    "test_batch_size = 128\n",
    "epochs = 4\n",
    "\n",
    "kwargs = {'num_workers': 1, 'pin_memory': True} if cuda else {}\n",
    "\n",
    "train_loader = torch.utils.data.DataLoader(\n",
    "    datasets.MNIST('./data', train=True, download=True,\n",
    "                   transform=transforms.Compose([\n",
    "                       transforms.ToTensor(),\n",
    "                       transforms.Normalize((0.1307,), (0.3081,))\n",
    "                   ])),\n",
    "    batch_size=batch_size, shuffle=True, **kwargs)\n",
    "\n",
    "test_loader = torch.utils.data.DataLoader(\n",
    "    datasets.MNIST('./data', train=False, transform=transforms.Compose([\n",
    "        transforms.ToTensor(),\n",
    "        transforms.Normalize((0.1307,), (0.3081,))\n",
    "    ])),\n",
    "    batch_size=test_batch_size, shuffle=True, **kwargs)"
   ]
  },
  {
   "cell_type": "markdown",
   "metadata": {},
   "source": [
    "The MNIST data-set has now been loaded and consists of 70,000 images and associated labels (i.e. classifications of the images). The data-set is partitioned into 2 sub-sets, a training-set and a test-set."
   ]
  },
  {
   "cell_type": "code",
   "execution_count": 4,
   "metadata": {},
   "outputs": [
    {
     "name": "stdout",
     "output_type": "stream",
     "text": [
      "Size of:\n",
      "- Training-set:\t\t60000\n",
      "- Test-set:\t\t10000\n"
     ]
    }
   ],
   "source": [
    "# Count items in datasets\n",
    "test_set_size = len(test_loader.dataset)\n",
    "training_set_size = len(train_loader.dataset)\n",
    "\n",
    "print(\"Size of:\")\n",
    "print(\"- Training-set:\\t\\t{}\".format(training_set_size))\n",
    "print(\"- Test-set:\\t\\t{}\".format(test_set_size))"
   ]
  },
  {
   "cell_type": "markdown",
   "metadata": {},
   "source": [
    "## Data Dimensions"
   ]
  },
  {
   "cell_type": "markdown",
   "metadata": {},
   "source": [
    "The data dimensions are used in several places in the source-code below. They are defined once so we can use these variables instead of numbers throughout the source-code below."
   ]
  },
  {
   "cell_type": "code",
   "execution_count": 5,
   "metadata": {},
   "outputs": [],
   "source": [
    "# We know that MNIST images are 28 pixels in each dimension.\n",
    "img_size = 28\n",
    "\n",
    "# Images are stored in one-dimensional arrays of this length.\n",
    "img_size_flat = img_size * img_size\n",
    "\n",
    "# Tuple with height and width of images used to reshape arrays.\n",
    "img_shape = (img_size, img_size)\n",
    "\n",
    "# Number of colour channels for the images: 1 channel for gray-scale.\n",
    "num_channels = 1\n",
    "\n",
    "# Number of classes, one class for each of 10 digits.\n",
    "num_classes = 10"
   ]
  },
  {
   "cell_type": "markdown",
   "metadata": {},
   "source": [
    "### Helper-function for plotting images"
   ]
  },
  {
   "cell_type": "markdown",
   "metadata": {},
   "source": [
    "Function used to plot 9 images in a 3x3 grid, and writing the true and predicted classes below each image."
   ]
  },
  {
   "cell_type": "code",
   "execution_count": 6,
   "metadata": {},
   "outputs": [],
   "source": [
    "def plot_images(images, cls_true, cls_pred=None):\n",
    "    assert len(images) == len(cls_true) == 9\n",
    "\n",
    "    # Create figure with 3x3 sub-plots.\n",
    "    fig, axes = plt.subplots(3, 3)\n",
    "    fig.subplots_adjust(hspace=0.3, wspace=0.3)\n",
    "\n",
    "    for i, ax in enumerate(axes.flat):\n",
    "        # Plot image.\n",
    "        ax.imshow(images[i].reshape(img_shape), cmap='binary')\n",
    "\n",
    "        # Show true and predicted classes.\n",
    "        if cls_pred is None:\n",
    "            xlabel = \"True: {0}\".format(cls_true[i])\n",
    "        else:\n",
    "            xlabel = \"True: {0}, Pred: {1}\".format(cls_true[i], cls_pred[i])\n",
    "\n",
    "        # Show the classes as the label on the x-axis.\n",
    "        ax.set_xlabel(xlabel)\n",
    "\n",
    "        # Remove ticks from the plot.\n",
    "        ax.set_xticks([])\n",
    "        ax.set_yticks([])\n",
    "\n",
    "    # Ensure the plot is shown correctly with multiple plots\n",
    "    # in a single Notebook cell.\n",
    "    plt.show()"
   ]
  },
  {
   "cell_type": "markdown",
   "metadata": {},
   "source": [
    "### Plot a few images to see if data is correct"
   ]
  },
  {
   "cell_type": "code",
   "execution_count": 7,
   "metadata": {},
   "outputs": [
    {
     "data": {
      "image/png": "[encoded data removed]",
      "text/plain": [
       "<matplotlib.figure.Figure at 0x7ff016555b00>"
      ]
     },
     "metadata": {},
     "output_type": "display_data"
    }
   ],
   "source": [
    "''' Fetch nine images from the training-set and plot them. Note they can differ from run to run, as the\n",
    "training-set gets shuffled ''' \n",
    "\n",
    "sample_data_iter = iter(train_loader)\n",
    "images, labels = sample_data_iter.next()\n",
    "images = images.numpy()[0:9]\n",
    "labels = labels.numpy()[0:9]\n",
    "plot_images(images, labels)"
   ]
  },
  {
   "cell_type": "markdown",
   "metadata": {},
   "source": [
    "### Helper-functions to plot classified and misclassified images\n",
    "\n",
    "Functions for plotting examples of images from the dataset-set that along with their classification."
   ]
  },
  {
   "cell_type": "code",
   "execution_count": 8,
   "metadata": {},
   "outputs": [],
   "source": [
    "def array_from_variable(var):\n",
    "    return var.cpu().data.numpy()\n",
    "\n",
    "\n",
    "def array_from_tensor(tensor):\n",
    "    return tensor.cpu().numpy()\n",
    "\n",
    "\n",
    "def plot_classified_sample(dataset_loader, model):\n",
    "    data_iter = iter(dataset_loader)\n",
    "    images, labels = data_iter.next()\n",
    "    images = images[0:9]\n",
    "    labels = labels.numpy()[0:9]\n",
    "    if cuda:\n",
    "        images = images.cuda()\n",
    "    images = Variable(images, volatile=True)\n",
    "    pred_scores = model(images)\n",
    "    predicted = pred_scores.data.max(1, keepdim=True)[1]\n",
    "\n",
    "    plot_images(array_from_variable(images), cls_true=labels, cls_pred=array_from_tensor(predicted))"
   ]
  },
  {
   "cell_type": "markdown",
   "metadata": {},
   "source": [
    "## Keras API\n",
    "\n",
    "This is how the Convolutional Neural Network was implemented in Mr. Pedersen's Tutorial #03-C using the Keras API. It is shown here for easy comparison to the Pytorch implementation below."
   ]
  },
  {
   "cell_type": "code",
   "execution_count": 9,
   "metadata": {},
   "outputs": [],
   "source": [
    "if False:\n",
    "    # Start construction of the Keras Sequential model.\n",
    "    model = Sequential()\n",
    "\n",
    "    # Add an input layer which is similar to a feed_dict in TensorFlow.\n",
    "    # Note that the input-shape must be a tuple containing the image-size.\n",
    "    model.add(InputLayer(input_shape=(img_size_flat,)))\n",
    "\n",
    "    # The input is a flattened array with 784 elements,\n",
    "    # but the convolutional layers expect images with shape (28, 28, 1)\n",
    "    model.add(Reshape(img_shape_full))\n",
    "\n",
    "    # First convolutional layer with ReLU-activation and max-pooling.\n",
    "    model.add(Conv2D(kernel_size=5, strides=1, filters=16, padding='same',\n",
    "                     activation='relu', name='layer_conv1'))\n",
    "    model.add(MaxPooling2D(pool_size=2, strides=2))\n",
    "\n",
    "    # Second convolutional layer with ReLU-activation and max-pooling.\n",
    "    model.add(Conv2D(kernel_size=5, strides=1, filters=36, padding='same',\n",
    "                     activation='relu', name='layer_conv2'))\n",
    "    model.add(MaxPooling2D(pool_size=2, strides=2))\n",
    "\n",
    "    # Flatten the 4-rank output of the convolutional layers\n",
    "    # to 2-rank that can be input to a fully-connected / dense layer.\n",
    "    model.add(Flatten())\n",
    "\n",
    "    # First fully-connected / dense layer with ReLU-activation.\n",
    "    model.add(Dense(128, activation='relu'))\n",
    "\n",
    "    # Last fully-connected / dense layer with softmax-activation\n",
    "    # for use in classification.\n",
    "    model.add(Dense(num_classes, activation='softmax'))"
   ]
  },
  {
   "cell_type": "markdown",
   "metadata": {},
   "source": [
    "## Sequential Model\n",
    "\n",
    "The Pytorch API has two modes of constructing Neural Networks. The simplest is the Sequential Model which only allows for the layers to be added in sequence."
   ]
  },
  {
   "cell_type": "code",
   "execution_count": 10,
   "metadata": {
    "scrolled": true
   },
   "outputs": [],
   "source": [
    "''' Set the size for the kernels and the amount of padding for the two convolutional layers.\n",
    "Pytorch, unlike Keras, does not automatically compute the padding for \"same\" or \"valid\" padding,\n",
    "so it is calculated below '''\n",
    "conv1_kernel_size = 5\n",
    "conv1_pad = int((conv1_kernel_size - 1) / 2)\n",
    "assert ((conv1_kernel_size - 1) % 2 == 0)\n",
    "conv2_kernel_size = 5\n",
    "conv2_pad = int((conv2_kernel_size - 1) / 2)\n",
    "\n",
    "\n",
    "# Pytorch sequential model doesn't include a layer for flattening, oddly enough; so we make our own.\n",
    "class Flatten(nn.Module):\n",
    "\n",
    "    def forward(self, x):\n",
    "        return x.view(x.size(0), -1)\n",
    "\n",
    "    def __repr__(self):\n",
    "        return 'Flatten()'\n",
    "\n",
    "\n",
    "sequential_model = nn.Sequential(\n",
    "    nn.Conv2d(in_channels=1, out_channels=16, kernel_size=conv1_kernel_size, padding=conv1_pad),\n",
    "    nn.ReLU(),\n",
    "    nn.MaxPool2d(kernel_size=2),\n",
    "    nn.Conv2d(in_channels=16, out_channels=36, kernel_size=conv2_kernel_size, padding=conv2_pad),\n",
    "    nn.ReLU(),\n",
    "    nn.MaxPool2d(kernel_size=2),\n",
    "    Flatten(),\n",
    "    nn.Linear(in_features=1764, out_features=128),  # 36 channels times 7x7 grayscale pictures = 1764 input features\n",
    "    nn.ReLU(),\n",
    "    nn.Linear(in_features=128, out_features=num_classes)\n",
    ")\n",
    "\n",
    "# Move the model to the GPU, if available\n",
    "if cuda:\n",
    "    sequential_model = sequential_model.cuda()\n"
   ]
  },
  {
   "cell_type": "markdown",
   "metadata": {},
   "source": [
    "The last layer in the model is a linear (fully connected) layer, while in the model built with Keras it is a softmax activation. The reason is the loss function (used below) is `torch.nn.functional.cross_entropy()`, which takes among its input the scores computed by the NN for each class, and calculates the softmax by itself."
   ]
  },
  {
   "cell_type": "markdown",
   "metadata": {},
   "source": [
    "### Choice of an Optimizer\n",
    "\n",
    "Pytorch provides a set of optimizers ready to be used. Here I instantiate an Adam optimizer and set its learning rate."
   ]
  },
  {
   "cell_type": "code",
   "execution_count": 11,
   "metadata": {},
   "outputs": [],
   "source": [
    "optimizer = optim.Adam(params=sequential_model.parameters(), lr=1e-3)"
   ]
  },
  {
   "cell_type": "markdown",
   "metadata": {},
   "source": [
    "### Training\n",
    "\n",
    "Now that the model and optimizer have been defined, we implement two functions to respectively train and test the model. As far as I know, Pytorch doesn't provide something like a `fit()` method, the way scikit-learn and Keras do."
   ]
  },
  {
   "cell_type": "code",
   "execution_count": 12,
   "metadata": {},
   "outputs": [],
   "source": [
    "def train(epoch, model, optimizer, train_loader):\n",
    "    model.train()\n",
    "    sys.stdout.flush()  # Just a workaround for a tqdm issue, relevant when cuda is set to False\n",
    "    # len(train_loader) is the number of batches in the data-set\n",
    "    for batch_idx, (data, target) in tqdm(enumerate(train_loader), total=len(train_loader), unit=' batch'):\n",
    "        if cuda:\n",
    "            data, target = data.cuda(), target.cuda()\n",
    "        data, target = Variable(data), Variable(target)\n",
    "        optimizer.zero_grad()\n",
    "        prediction = model(data)\n",
    "        loss = F.cross_entropy(input=prediction, target=target)\n",
    "        loss.backward()\n",
    "        optimizer.step()\n",
    "\n",
    "def test(model, test_loader):\n",
    "    model.eval()  # Actually necessary if the model includes layers like Dropout or BatchNorm\n",
    "    test_loss = 0\n",
    "    correct = 0\n",
    "    for data, target in test_loader:\n",
    "        if cuda:\n",
    "            data, target = data.cuda(), target.cuda()\n",
    "        # Variable below set to volatile for efficiency, as the model here is used for inference only, no training\n",
    "        data, target = Variable(data, volatile=True), Variable(target)\n",
    "        prediction = model(data)\n",
    "        test_loss += F.cross_entropy(prediction, target, size_average=False).data[0]  # sum up batch loss\n",
    "        pred_idx = prediction.data.max(1, keepdim=True)[1]  # get the index of the max score\n",
    "        correct += pred_idx.eq(target.data.view_as(pred_idx)).cpu().sum()\n",
    "        \n",
    "    test_loss /= len(test_loader.dataset)\n",
    "    print('\\nTest set: Average loss: {:.4f}, Accuracy: {}/{} ({:.0f}%)\\n'.format(\n",
    "        test_loss, correct, len(test_loader.dataset),\n",
    "        100. * correct / len(test_loader.dataset)))"
   ]
  },
  {
   "cell_type": "markdown",
   "metadata": {},
   "source": [
    "We are now ready to train and test the model for the wanted number of epochs. In every epoch, training goes through the whole training data-set."
   ]
  },
  {
   "cell_type": "code",
   "execution_count": 13,
   "metadata": {},
   "outputs": [
    {
     "name": "stdout",
     "output_type": "stream",
     "text": [
      "\n",
      "Epoch 1 of 4\n"
     ]
    },
    {
     "name": "stderr",
     "output_type": "stream",
     "text": [
      "100%|██████████| 469/469 [00:04<00:00, 94.52 batch/s]"
     ]
    },
    {
     "name": "stdout",
     "output_type": "stream",
     "text": [
      "\n",
      "Epoch 2 of 4\n"
     ]
    },
    {
     "name": "stderr",
     "output_type": "stream",
     "text": [
      "\n",
      "100%|██████████| 469/469 [00:04<00:00, 108.73 batch/s]"
     ]
    },
    {
     "name": "stdout",
     "output_type": "stream",
     "text": [
      "\n",
      "Epoch 3 of 4\n"
     ]
    },
    {
     "name": "stderr",
     "output_type": "stream",
     "text": [
      "\n",
      "100%|██████████| 469/469 [00:04<00:00, 110.96 batch/s]"
     ]
    },
    {
     "name": "stdout",
     "output_type": "stream",
     "text": [
      "\n",
      "Epoch 4 of 4\n"
     ]
    },
    {
     "name": "stderr",
     "output_type": "stream",
     "text": [
      "\n",
      "100%|██████████| 469/469 [00:04<00:00, 110.85 batch/s]\n"
     ]
    }
   ],
   "source": [
    "for epoch in range(epochs):\n",
    "    print('\\nEpoch {} of {}'.format(epoch+1, epochs))\n",
    "    train(epoch, sequential_model, optimizer, train_loader)"
   ]
  },
  {
   "cell_type": "markdown",
   "metadata": {},
   "source": [
    "### Evaluation\n",
    "\n",
    "Now that the model has been trained we can test its performance on the test-set."
   ]
  },
  {
   "cell_type": "code",
   "execution_count": 14,
   "metadata": {},
   "outputs": [
    {
     "name": "stdout",
     "output_type": "stream",
     "text": [
      "\n",
      "Test set: Average loss: 0.0363, Accuracy: 9887/10000 (99%)\n",
      "\n"
     ]
    }
   ],
   "source": [
    "test(sequential_model, test_loader)"
   ]
  },
  {
   "cell_type": "markdown",
   "metadata": {},
   "source": [
    "### Prediction\n",
    "\n",
    "We can also predict the classification for new images. We will just use some images from the test-set but you could load your own images into numpy arrays and use those instead."
   ]
  },
  {
   "cell_type": "code",
   "execution_count": 15,
   "metadata": {},
   "outputs": [
    {
     "data": {
      "image/png": "[encoded data removed]",
      "text/plain": [
       "<matplotlib.figure.Figure at 0x7ff06be88ac8>"
      ]
     },
     "metadata": {},
     "output_type": "display_data"
    }
   ],
   "source": [
    "plot_classified_sample(test_loader, sequential_model)"
   ]
  },
  {
   "cell_type": "markdown",
   "metadata": {},
   "source": [
    "### Examples of Mis-Classified Images\n",
    "\n",
    "We define a function to sample and plot nine mis-classified images from the test-set."
   ]
  },
  {
   "cell_type": "code",
   "execution_count": 16,
   "metadata": {},
   "outputs": [],
   "source": [
    "def plot_misclassified_sample(dataset_loader, model):\n",
    "    data_iter = iter(dataset_loader)\n",
    "    misclassified, prediction, correct_cls = [], [], []\n",
    "    # Fetch enough samples from the dataset to collect at least 9 misclassified samples\n",
    "    for images, labels in data_iter:\n",
    "        if cuda:\n",
    "            images = images.cuda()\n",
    "        images = Variable(images, volatile=True)\n",
    "        pred_scores = model(images)\n",
    "        predicted = array_from_tensor(pred_scores.data.max(1, keepdim=True)[1]).squeeze()\n",
    "        incorrect = (predicted != labels.numpy())\n",
    "        misclassified.extend(array_from_variable(images)[incorrect])\n",
    "        prediction.extend(predicted[incorrect])\n",
    "        correct_cls.extend(labels.numpy()[incorrect])\n",
    "        if len(misclassified) >= 9:\n",
    "            break\n",
    "            \n",
    "    plot_images(images=misclassified[0:9],\n",
    "            cls_true=correct_cls[0:9],\n",
    "            cls_pred=prediction[0:9])"
   ]
  },
  {
   "cell_type": "markdown",
   "metadata": {},
   "source": [
    "We can then plot some examples of mis-classified images."
   ]
  },
  {
   "cell_type": "code",
   "execution_count": 17,
   "metadata": {},
   "outputs": [
    {
     "data": {
      "image/png": "[encoded data removed]",
      "text/plain": [
       "<matplotlib.figure.Figure at 0x7ff06be33c18>"
      ]
     },
     "metadata": {},
     "output_type": "display_data"
    }
   ],
   "source": [
    "plot_misclassified_sample(test_loader, sequential_model)"
   ]
  },
  {
   "cell_type": "markdown",
   "metadata": {},
   "source": [
    "## Functional Model\n",
    "\n",
    "The Pytorch API also supports a different way to described the model: the functional API, found under package `torch.nn.functional`. It can be used to construct more complicated networks. To demonstrate its usage, we will build again the model previously built with the sequential API.\n",
    "\n",
    "Pytorch provides class `nn.Module` as a container for network models; by deriving our class from it, we can use its services. Note that we are deriving from an `nn.Mudule` here for convenience, but using the functional API doesn't require it, and we could do without it, or adopt `nn.Module` and use the sequential API instead. For an example of mixing sequential and functional API in a sub-class of `nn.Module`, see the [Deep Learning with PyTorch: A 60 Minute Blitz](http://pytorch.org/tutorials/beginner/blitz/neural_networks_tutorial.html#define-the-network)."
   ]
  },
  {
   "cell_type": "code",
   "execution_count": 18,
   "metadata": {},
   "outputs": [],
   "source": [
    "class FunctionalModel(nn.Module):\n",
    "    def __init__(self):\n",
    "        super(FunctionalModel, self).__init__()\n",
    "\n",
    "        def get_conv_weight_and_bias(n_input, n_output, k1, k2):\n",
    "            w = Parameter(torch.Tensor(n_output, n_input, k1, k2))\n",
    "            stdv = 1. / math.sqrt(n_input)\n",
    "            nn.init.uniform(w, -stdv, stdv)\n",
    "            b = Parameter(torch.Tensor(n_output))\n",
    "            nn.init.uniform(b, -stdv, stdv)\n",
    "            return w, b\n",
    "\n",
    "        def get_linear_weight_and_bias(n_input, n_output):\n",
    "            w = Parameter(torch.Tensor(n_output, n_input))\n",
    "            stdv = 1. / math.sqrt(w.size(1))\n",
    "            nn.init.uniform(w, -stdv, stdv)\n",
    "            b = Parameter(torch.Tensor(n_output))\n",
    "            nn.init.uniform(b, -stdv, stdv)\n",
    "            return w, b\n",
    "\n",
    "        conv1_kernel_size = 5\n",
    "        assert ((conv1_kernel_size - 1) % 2 == 0)\n",
    "        self.conv1_pad = int((conv1_kernel_size - 1) / 2)\n",
    "        conv2_kernel_size = 5\n",
    "        assert ((conv2_kernel_size - 1) % 2 == 0)\n",
    "        self.conv2_pad = int((conv2_kernel_size - 1) / 2)\n",
    "\n",
    "        self.conv1_w, self.conv1_b = get_conv_weight_and_bias(n_input=1, n_output=16, k1=conv1_kernel_size,\n",
    "                                                              k2=conv1_kernel_size)\n",
    "        self.conv2_w, self.conv2_b = get_conv_weight_and_bias(n_input=16, n_output=36, k1=conv2_kernel_size,\n",
    "                                                              k2=conv2_kernel_size)\n",
    "        self.fc1_w, self.fc1_b = get_linear_weight_and_bias(n_input=1764, n_output=128)\n",
    "        self.fc2_w, self.fc2_b = get_linear_weight_and_bias(n_input=128, n_output=num_classes)\n",
    "\n",
    "    def forward(self, x):\n",
    "        x = F.conv2d(input=x, weight=self.conv1_w, bias=self.conv1_b, padding=self.conv1_pad)\n",
    "        x = F.max_pool2d(F.relu(x), 2)\n",
    "        x = F.conv2d(input=x, weight=self.conv2_w, bias=self.conv2_b, padding=self.conv2_pad)\n",
    "        x = F.max_pool2d(F.relu(x), 2)\n",
    "        x = x.view(x.size(0), -1)  # Flatten but keep the same batch size\n",
    "        x = F.linear(input=x, weight=self.fc1_w, bias=self.fc1_b)\n",
    "        x = F.relu(x)\n",
    "        x = F.linear(input=x, weight=self.fc2_w, bias=self.fc2_b)\n",
    "        return x\n",
    "\n",
    "\n",
    "functional_model = FunctionalModel()\n",
    "\n",
    "if cuda:\n",
    "    functional_model.cuda()"
   ]
  },
  {
   "cell_type": "markdown",
   "metadata": {},
   "source": [
    "As you see in the code above, using the fucntional API requires us to define and initialize the weight and bias matrices for the convolutional and linear (fully-connected) layers. I am initializing them the way the sequential model does, from a uniform distribution, because I am trying to obtain comparable results."
   ]
  },
  {
   "cell_type": "markdown",
   "metadata": {},
   "source": [
    "### Choice of an Optimizer\n",
    "\n",
    "Before training the NN, we need to choose an optimizer; like we did when we used the sequential API, we pick an Adam optimizer with loss rate set to 0.001."
   ]
  },
  {
   "cell_type": "code",
   "execution_count": 19,
   "metadata": {},
   "outputs": [],
   "source": [
    "optimizer = optim.Adam(params=functional_model.parameters(), lr=1e-3)"
   ]
  },
  {
   "cell_type": "markdown",
   "metadata": {},
   "source": [
    "### Training\n",
    "\n",
    "The same function defined to train the sequential model can train the functional model just implemented."
   ]
  },
  {
   "cell_type": "code",
   "execution_count": 20,
   "metadata": {},
   "outputs": [
    {
     "name": "stdout",
     "output_type": "stream",
     "text": [
      "\n",
      "Epoch 1 of 4\n"
     ]
    },
    {
     "name": "stderr",
     "output_type": "stream",
     "text": [
      "100%|██████████| 469/469 [00:04<00:00, 111.54 batch/s]"
     ]
    },
    {
     "name": "stdout",
     "output_type": "stream",
     "text": [
      "\n",
      "Epoch 2 of 4\n"
     ]
    },
    {
     "name": "stderr",
     "output_type": "stream",
     "text": [
      "\n",
      "100%|██████████| 469/469 [00:04<00:00, 112.20 batch/s]"
     ]
    },
    {
     "name": "stdout",
     "output_type": "stream",
     "text": [
      "\n",
      "Epoch 3 of 4\n"
     ]
    },
    {
     "name": "stderr",
     "output_type": "stream",
     "text": [
      "\n",
      "100%|██████████| 469/469 [00:04<00:00, 111.24 batch/s]"
     ]
    },
    {
     "name": "stdout",
     "output_type": "stream",
     "text": [
      "\n",
      "Epoch 4 of 4\n"
     ]
    },
    {
     "name": "stderr",
     "output_type": "stream",
     "text": [
      "\n",
      "100%|██████████| 469/469 [00:04<00:00, 110.88 batch/s]\n"
     ]
    }
   ],
   "source": [
    "for epoch in range(epochs):\n",
    "    print('\\nEpoch {} of {}'.format(epoch+1, epochs))\n",
    "    train(epoch, sequential_model, optimizer, train_loader)"
   ]
  },
  {
   "cell_type": "markdown",
   "metadata": {},
   "source": [
    "### Evaluation\n",
    "\n",
    "Once the model has been trained we can evaluate its performance on the test-set. The function defined to test the sequential model will do here as well."
   ]
  },
  {
   "cell_type": "code",
   "execution_count": 21,
   "metadata": {},
   "outputs": [
    {
     "name": "stdout",
     "output_type": "stream",
     "text": [
      "\n",
      "Test set: Average loss: 3.5390, Accuracy: 1179/10000 (12%)\n",
      "\n"
     ]
    }
   ],
   "source": [
    "test(functional_model, test_loader)"
   ]
  },
  {
   "cell_type": "markdown",
   "metadata": {},
   "source": [
    "### Examples of Mis-Classified Images\n",
    "\n",
    "We can plot some examples of images from the test-set mis-classified by the functional model.\n",
    "\n",
    "First we get the predicted classes for all the images in the test-set:"
   ]
  },
  {
   "cell_type": "code",
   "execution_count": 22,
   "metadata": {},
   "outputs": [
    {
     "data": {
      "image/png": "[encoded data removed]",
      "text/plain": [
       "<matplotlib.figure.Figure at 0x7ff061847470>"
      ]
     },
     "metadata": {},
     "output_type": "display_data"
    }
   ],
   "source": [
    "plot_misclassified_sample(test_loader, functional_model)"
   ]
  },
  {
   "cell_type": "markdown",
   "metadata": {},
   "source": [
    "## Save & Load Model\n",
    "\n",
    "We can save the model and load it again to make predictions.\n",
    "\n",
    "This is the file-path where we want to save the Pytorch model."
   ]
  },
  {
   "cell_type": "code",
   "execution_count": 23,
   "metadata": {},
   "outputs": [],
   "source": [
    "saved_model_path = 'model.p'"
   ]
  },
  {
   "cell_type": "markdown",
   "metadata": {},
   "source": [
    "We now save the model state dictionary, which will be enough to make predictions with the same model. To be able to resume the computation with the saved model, we would need to save additional information, such as the model parameters and optimizer. For an example of saving and resuming the computation, see this [Wide Residual Network](https://github.com/szagoruyko/wide-residual-networks/blob/master/pytorch/main.py)."
   ]
  },
  {
   "cell_type": "code",
   "execution_count": 24,
   "metadata": {
    "scrolled": true
   },
   "outputs": [],
   "source": [
    "torch.save(functional_model.state_dict(), saved_model_path)"
   ]
  },
  {
   "cell_type": "markdown",
   "metadata": {},
   "source": [
    "Delete the model from memory so we are sure it is no longer used."
   ]
  },
  {
   "cell_type": "code",
   "execution_count": 25,
   "metadata": {},
   "outputs": [],
   "source": [
    "del functional_model"
   ]
  },
  {
   "cell_type": "markdown",
   "metadata": {},
   "source": [
    "Re-loading the model requires to instantiate it first."
   ]
  },
  {
   "cell_type": "code",
   "execution_count": 26,
   "metadata": {},
   "outputs": [],
   "source": [
    "loaded_model = FunctionalModel()\n",
    "if cuda:\n",
    "    loaded_model = loaded_model.cuda()"
   ]
  },
  {
   "cell_type": "markdown",
   "metadata": {},
   "source": [
    "We can then load its state dictionary."
   ]
  },
  {
   "cell_type": "code",
   "execution_count": 27,
   "metadata": {},
   "outputs": [],
   "source": [
    "state_dict = torch.load(saved_model_path)\n",
    "loaded_model.load_state_dict(state_dict)"
   ]
  },
  {
   "cell_type": "markdown",
   "metadata": {},
   "source": [
    "Calling `eval()` on the model indicates we plan to use it for inference only, no further training; it is actually necessary if the model includes layers such as Dropout or BatchNorm, not our case."
   ]
  },
  {
   "cell_type": "code",
   "execution_count": 28,
   "metadata": {},
   "outputs": [
    {
     "data": {
      "text/plain": [
       "FunctionalModel(\n",
       ")"
      ]
     },
     "execution_count": 28,
     "metadata": {},
     "output_type": "execute_result"
    }
   ],
   "source": [
    "loaded_model.eval()"
   ]
  },
  {
   "cell_type": "markdown",
   "metadata": {},
   "source": [
    "We then use the restored model to predict the class-numbers for a cuple images."
   ]
  },
  {
   "cell_type": "code",
   "execution_count": 29,
   "metadata": {},
   "outputs": [
    {
     "data": {
      "image/png": "[encoded data removed]",
      "text/plain": [
       "<matplotlib.figure.Figure at 0x7ff06182a4e0>"
      ]
     },
     "metadata": {},
     "output_type": "display_data"
    }
   ],
   "source": [
    "plot_classified_sample(test_loader, loaded_model)"
   ]
  },
  {
   "cell_type": "markdown",
   "metadata": {},
   "source": [
    "## Visualization of Layer Weights and Outputs"
   ]
  },
  {
   "cell_type": "markdown",
   "metadata": {},
   "source": [
    "### Helper-function for plotting convolutional weights"
   ]
  },
  {
   "cell_type": "code",
   "execution_count": 30,
   "metadata": {},
   "outputs": [],
   "source": [
    "def plot_conv_weights(weights, input_channel=0):\n",
    "    # Get the lowest and highest values for the weights.\n",
    "    # This is used to correct the colour intensity across\n",
    "    # the images so they can be compared with each other.\n",
    "    w_min = np.min(weights)\n",
    "    w_max = np.max(weights)\n",
    "\n",
    "    # Number of filters used in the conv. layer.\n",
    "    num_filters = weights.shape[0]\n",
    "\n",
    "    # Number of grids to plot.\n",
    "    # Rounded-up, square-root of the number of filters.\n",
    "    num_grids = math.ceil(math.sqrt(num_filters))\n",
    "\n",
    "    # Create figure with a grid of sub-plots.\n",
    "    fig, axes = plt.subplots(num_grids, num_grids)\n",
    "\n",
    "    # Plot all the filter-weights.\n",
    "    for i, ax in enumerate(axes.flat):\n",
    "        # Only plot the valid filter-weights.\n",
    "        if i < num_filters:\n",
    "            # Get the weights for the i'th filter of the input channel.\n",
    "            # See new_conv_layer() for details on the format\n",
    "            # of this 4-dim tensor.\n",
    "            img = weights[i, input_channel, :, :]\n",
    "            # img = weights[:, :, input_channel, i]\n",
    "\n",
    "            # Plot image.\n",
    "            ax.imshow(img, vmin=w_min, vmax=w_max,\n",
    "                      interpolation='nearest', cmap='seismic')\n",
    "\n",
    "        # Remove ticks from the plot.\n",
    "        ax.set_xticks([])\n",
    "        ax.set_yticks([])\n",
    "\n",
    "    # Ensure the plot is shown correctly with multiple plots\n",
    "    # in a single Notebook cell.\n",
    "    plt.show()"
   ]
  },
  {
   "cell_type": "markdown",
   "metadata": {},
   "source": [
    "### Get Layers and Weights\n",
    "\n",
    "Listing the layers in a sequential model is a easy as printing it. I am not aware of anything like it usable with a functional model."
   ]
  },
  {
   "cell_type": "code",
   "execution_count": 31,
   "metadata": {},
   "outputs": [
    {
     "name": "stdout",
     "output_type": "stream",
     "text": [
      "Sequential(\n",
      "  (0): Conv2d (1, 16, kernel_size=(5, 5), stride=(1, 1), padding=(2, 2))\n",
      "  (1): ReLU()\n",
      "  (2): MaxPool2d(kernel_size=(2, 2), stride=(2, 2), dilation=(1, 1))\n",
      "  (3): Conv2d (16, 36, kernel_size=(5, 5), stride=(1, 1), padding=(2, 2))\n",
      "  (4): ReLU()\n",
      "  (5): MaxPool2d(kernel_size=(2, 2), stride=(2, 2), dilation=(1, 1))\n",
      "  (6): Flatten()\n",
      "  (7): Linear(in_features=1764, out_features=128)\n",
      "  (8): ReLU()\n",
      "  (9): Linear(in_features=128, out_features=10)\n",
      ")\n"
     ]
    }
   ],
   "source": [
    "print(sequential_model)"
   ]
  },
  {
   "cell_type": "markdown",
   "metadata": {},
   "source": [
    "There is no input layer (unlike with Keras), the first convolutional layer has index 0, and the second has index 3. We can for instance dump the weights of the first convolutional layer."
   ]
  },
  {
   "cell_type": "code",
   "execution_count": 32,
   "metadata": {},
   "outputs": [
    {
     "data": {
      "text/plain": [
       "Parameter containing:\n",
       "(0 ,0 ,.,.) = \n",
       "   -0.12   -0.25    0.03    0.10    0.06\n",
       "   -0.20   -0.14    0.25   -0.01    0.05\n",
       "    0.14    0.17    0.12    0.12    0.19\n",
       "    0.15   -0.13   -0.12   -0.18    0.21\n",
       "    0.07   -0.20   -0.17   -0.25    0.16\n",
       "\n",
       "(1 ,0 ,.,.) = \n",
       "    0.14    0.21   -0.06   -0.11   -0.27\n",
       "    0.14    0.17    0.23   -0.12   -0.08\n",
       "   -0.10   -0.03    0.23   -0.10   -0.24\n",
       "   -0.04    0.04    0.20    0.04    0.14\n",
       "    0.03    0.14    0.15   -0.02   -0.12\n",
       "\n",
       "(2 ,0 ,.,.) = \n",
       "    0.08    0.31    0.02    0.02    0.14\n",
       "    0.08    0.16    0.31    0.30   -0.04\n",
       "   -0.19   -0.09   -0.11   -0.14    0.09\n",
       "   -0.28   -0.08   -0.09   -0.05   -0.13\n",
       "   -0.07   -0.17   -0.09   -0.07    0.15\n",
       "\n",
       "(3 ,0 ,.,.) = \n",
       "    0.05    0.04    0.16    0.13   -0.09\n",
       "   -0.12    0.04   -0.20    0.19    0.00\n",
       "    0.03   -0.08   -0.18    0.15    0.12\n",
       "   -0.14   -0.26    0.06    0.27   -0.03\n",
       "    0.08   -0.10    0.20    0.04   -0.23\n",
       "\n",
       "(4 ,0 ,.,.) = \n",
       "   -0.25   -0.28    0.08    0.16    0.13\n",
       "   -0.33   -0.21    0.25    0.16    0.14\n",
       "   -0.11   -0.01    0.13    0.24    0.05\n",
       "    0.06   -0.08    0.22    0.20   -0.05\n",
       "   -0.05    0.08    0.10    0.03   -0.17\n",
       "\n",
       "(5 ,0 ,.,.) = \n",
       "    0.06   -0.03    0.19    0.19   -0.18\n",
       "    0.05   -0.19   -0.22    0.13    0.15\n",
       "   -0.21    0.07    0.09    0.03    0.17\n",
       "    0.02   -0.06    0.10   -0.06    0.14\n",
       "    0.08   -0.06    0.16   -0.21    0.02\n",
       "\n",
       "(6 ,0 ,.,.) = \n",
       "    0.08   -0.22    0.02   -0.25    0.05\n",
       "    0.00   -0.26   -0.38   -0.31    0.05\n",
       "    0.02    0.14   -0.05    0.07   -0.06\n",
       "    0.13    0.23    0.30    0.26   -0.10\n",
       "    0.14   -0.13    0.09    0.11    0.21\n",
       "\n",
       "(7 ,0 ,.,.) = \n",
       "    0.28    0.21    0.22    0.15   -0.06\n",
       "    0.23    0.22    0.14    0.13   -0.18\n",
       "   -0.09   -0.16   -0.24   -0.27   -0.30\n",
       "   -0.06   -0.31   -0.26   -0.16    0.11\n",
       "   -0.07   -0.08    0.13    0.09    0.04\n",
       "\n",
       "(8 ,0 ,.,.) = \n",
       "   -0.22   -0.12   -0.24    0.11   -0.20\n",
       "   -0.08   -0.01   -0.08    0.14   -0.15\n",
       "   -0.06   -0.16   -0.15    0.08    0.17\n",
       "    0.01    0.01    0.24    0.16   -0.11\n",
       "    0.24    0.18    0.07    0.13    0.15\n",
       "\n",
       "(9 ,0 ,.,.) = \n",
       "   -0.18    0.06    0.11    0.22    0.05\n",
       "   -0.18   -0.17   -0.16   -0.10    0.15\n",
       "    0.17    0.01    0.08   -0.15    0.10\n",
       "    0.16   -0.18    0.01   -0.24    0.09\n",
       "    0.25   -0.07   -0.19    0.12   -0.14\n",
       "\n",
       "(10,0 ,.,.) = \n",
       "   -0.14   -0.06   -0.05   -0.19    0.18\n",
       "   -0.21   -0.29   -0.34   -0.10   -0.08\n",
       "    0.18   -0.02   -0.02    0.25    0.06\n",
       "   -0.16   -0.11    0.21    0.02   -0.03\n",
       "   -0.14    0.05    0.18    0.20    0.23\n",
       "\n",
       "(11,0 ,.,.) = \n",
       "   -0.17   -0.08    0.10    0.29    0.14\n",
       "   -0.18   -0.17   -0.02    0.12    0.29\n",
       "   -0.17   -0.15   -0.23   -0.14    0.19\n",
       "   -0.16   -0.11   -0.05   -0.14   -0.07\n",
       "    0.02   -0.22   -0.11   -0.15   -0.05\n",
       "\n",
       "(12,0 ,.,.) = \n",
       "    0.30    0.02    0.01    0.01    0.05\n",
       "   -0.02   -0.04   -0.23   -0.07    0.13\n",
       "    0.10   -0.08    0.10   -0.18   -0.12\n",
       "    0.09   -0.08   -0.21    0.13    0.13\n",
       "   -0.18    0.04   -0.19   -0.16   -0.11\n",
       "\n",
       "(13,0 ,.,.) = \n",
       "    0.13    0.17    0.10   -0.23   -0.28\n",
       "   -0.04   -0.09    0.29    0.01    0.14\n",
       "   -0.17   -0.06    0.16    0.20   -0.17\n",
       "   -0.28    0.03   -0.13   -0.13    0.20\n",
       "   -0.01   -0.09   -0.01    0.10    0.08\n",
       "\n",
       "(14,0 ,.,.) = \n",
       "   -0.07    0.01   -0.00   -0.31   -0.38\n",
       "    0.15   -0.07    0.03    0.20   -0.18\n",
       "   -0.13    0.13   -0.12    0.18    0.17\n",
       "    0.18    0.14   -0.16    0.15    0.16\n",
       "   -0.12    0.19    0.00    0.03   -0.01\n",
       "\n",
       "(15,0 ,.,.) = \n",
       "   -0.03    0.26    0.23   -0.12   -0.10\n",
       "    0.16   -0.13    0.11    0.02    0.05\n",
       "   -0.20   -0.29    0.05   -0.16   -0.00\n",
       "   -0.09   -0.24   -0.15   -0.17   -0.14\n",
       "    0.21    0.10    0.23    0.21    0.22\n",
       "[torch.cuda.FloatTensor of size 16x1x5x5 (GPU 0)]"
      ]
     },
     "execution_count": 32,
     "metadata": {},
     "output_type": "execute_result"
    }
   ],
   "source": [
    "torch.set_printoptions(profile='short')\n",
    "sequential_model[0].weight"
   ]
  },
  {
   "cell_type": "markdown",
   "metadata": {},
   "source": [
    "Accessing the weights in the functional model requires us to look at the source code, instead. For instance, the second convolutional layer weight is an attribute of the model object with name `conv2_w`."
   ]
  },
  {
   "cell_type": "code",
   "execution_count": 33,
   "metadata": {},
   "outputs": [
    {
     "name": "stdout",
     "output_type": "stream",
     "text": [
      "Parameter containing:\n",
      "(0 ,0 ,.,.) = \n",
      "  2.07e-01 -1.57e-01  ...  -7.96e-02  6.00e-03\n",
      " -5.90e-02  8.57e-02  ...   3.45e-02  5.58e-02\n",
      "         ...           ⋱           ...        \n",
      " -2.36e-01 -7.74e-02  ...   1.26e-01 -3.83e-02\n",
      "  1.99e-02 -9.19e-02  ...  -2.16e-01  1.88e-01\n",
      "\n",
      "(0 ,1 ,.,.) = \n",
      "  2.37e-01 -1.28e-01  ...  -2.32e-01  3.04e-02\n",
      "  1.55e-02 -1.13e-01  ...   1.59e-01  8.21e-02\n",
      "         ...           ⋱           ...        \n",
      " -5.20e-02  2.04e-01  ...   1.70e-01 -1.12e-01\n",
      "  2.04e-01  6.60e-02  ...  -1.98e-01 -1.68e-02\n",
      "   ...\n",
      "\n",
      "(0 ,14,.,.) = \n",
      " -8.94e-02 -1.28e-01  ...  -6.77e-02 -1.30e-01\n",
      "  1.93e-01 -1.59e-01  ...   1.15e-01 -1.94e-01\n",
      "         ...           ⋱           ...        \n",
      "  2.21e-01 -3.39e-02  ...   1.54e-01 -1.85e-01\n",
      " -1.56e-01 -1.32e-01  ...   1.67e-01  1.83e-01\n",
      "\n",
      "(0 ,15,.,.) = \n",
      "  1.16e-02  1.65e-01  ...   2.40e-01  1.28e-01\n",
      "  1.55e-01 -2.37e-01  ...  -1.09e-04 -4.59e-02\n",
      "         ...           ⋱           ...        \n",
      " -7.97e-03 -2.17e-02  ...  -1.46e-01  1.48e-01\n",
      "  8.10e-02 -1.87e-01  ...  -2.09e-02  1.28e-01\n",
      "     ⋮ \n",
      "\n",
      "(1 ,0 ,.,.) = \n",
      "  1.07e-01 -1.89e-01  ...   4.09e-02 -3.51e-03\n",
      "  1.14e-01 -1.23e-01  ...   2.42e-02  2.37e-01\n",
      "         ...           ⋱           ...        \n",
      " -1.62e-01 -2.33e-01  ...  -2.39e-01 -2.24e-04\n",
      "  1.17e-01  1.05e-01  ...   1.39e-01 -1.81e-01\n",
      "\n",
      "(1 ,1 ,.,.) = \n",
      "  1.65e-01  2.12e-01  ...  -1.09e-01  1.40e-01\n",
      " -1.56e-01 -1.64e-01  ...  -2.36e-01 -4.34e-02\n",
      "         ...           ⋱           ...        \n",
      " -2.26e-01 -1.57e-01  ...  -9.80e-02  1.34e-01\n",
      "  5.81e-02 -2.27e-01  ...  -7.39e-02 -8.46e-02\n",
      "   ...\n",
      "\n",
      "(1 ,14,.,.) = \n",
      " -9.79e-02 -1.57e-01  ...   1.98e-01 -8.73e-02\n",
      " -1.89e-01 -2.11e-01  ...  -1.53e-01  1.08e-01\n",
      "         ...           ⋱           ...        \n",
      " -6.82e-03 -7.84e-02  ...  -1.37e-01  2.16e-01\n",
      "  2.47e-01  2.41e-01  ...  -5.83e-02 -3.41e-02\n",
      "\n",
      "(1 ,15,.,.) = \n",
      " -2.34e-01  1.82e-01  ...  -1.60e-01 -1.76e-01\n",
      "  3.46e-02 -1.56e-01  ...   1.09e-01 -1.84e-01\n",
      "         ...           ⋱           ...        \n",
      " -6.36e-02 -1.10e-01  ...   1.43e-01  1.84e-01\n",
      "  1.68e-01  1.88e-01  ...   1.94e-01  1.77e-01\n",
      "...   \n",
      "     ⋮ \n",
      "\n",
      "(34,0 ,.,.) = \n",
      " -2.19e-01  1.74e-01  ...  -1.44e-01 -2.25e-01\n",
      "  1.29e-01 -3.38e-02  ...  -3.89e-02 -1.90e-01\n",
      "         ...           ⋱           ...        \n",
      " -8.87e-02 -8.94e-02  ...   2.43e-01  1.24e-02\n",
      "  2.15e-01 -7.40e-03  ...  -1.95e-01  6.73e-02\n",
      "\n",
      "(34,1 ,.,.) = \n",
      " -1.82e-02 -1.07e-01  ...   1.61e-01 -3.18e-02\n",
      "  2.18e-01 -2.27e-01  ...   1.97e-01 -2.00e-01\n",
      "         ...           ⋱           ...        \n",
      " -1.17e-01 -7.09e-03  ...   1.21e-01  9.58e-02\n",
      "  8.13e-03 -2.36e-01  ...   1.58e-01  8.55e-02\n",
      "   ...\n",
      "\n",
      "(34,14,.,.) = \n",
      " -2.81e-02 -1.14e-01  ...   8.44e-02 -2.40e-01\n",
      "  2.75e-02  1.76e-01  ...  -1.72e-01 -6.12e-02\n",
      "         ...           ⋱           ...        \n",
      " -7.64e-02  4.89e-02  ...   1.73e-01 -4.49e-02\n",
      "  9.57e-02 -1.31e-02  ...  -1.25e-01  1.77e-01\n",
      "\n",
      "(34,15,.,.) = \n",
      "  1.48e-01 -1.03e-01  ...   2.43e-01 -5.51e-02\n",
      " -1.40e-01 -2.00e-01  ...  -2.29e-02  1.60e-01\n",
      "         ...           ⋱           ...        \n",
      "  9.36e-02 -2.54e-02  ...  -6.05e-02 -1.93e-01\n",
      "  4.47e-02 -1.76e-01  ...  -1.12e-02 -1.56e-01\n",
      "     ⋮ \n",
      "\n",
      "(35,0 ,.,.) = \n",
      "  6.34e-04 -4.64e-02  ...  -2.01e-01  2.22e-01\n",
      " -1.33e-01 -2.35e-01  ...   1.11e-01 -2.59e-02\n",
      "         ...           ⋱           ...        \n",
      "  7.20e-02  1.65e-01  ...   1.95e-01  1.12e-01\n",
      " -6.01e-02 -2.32e-01  ...  -3.83e-03 -1.68e-02\n",
      "\n",
      "(35,1 ,.,.) = \n",
      "  1.67e-01  1.14e-01  ...  -8.49e-02 -1.98e-02\n",
      " -2.37e-01 -2.25e-01  ...   2.33e-01  1.68e-01\n",
      "         ...           ⋱           ...        \n",
      "  6.04e-02 -4.18e-02  ...  -3.42e-02 -4.42e-02\n",
      "  5.98e-02  2.27e-01  ...   1.53e-01  1.94e-01\n",
      "   ...\n",
      "\n",
      "(35,14,.,.) = \n",
      "  4.11e-02  1.41e-01  ...   1.69e-01 -1.38e-02\n",
      " -1.69e-01  9.99e-02  ...  -1.30e-01 -4.38e-02\n",
      "         ...           ⋱           ...        \n",
      "  2.35e-01  9.36e-02  ...  -6.29e-02  1.08e-01\n",
      "  2.41e-01 -1.30e-01  ...  -1.87e-01 -8.46e-02\n",
      "\n",
      "(35,15,.,.) = \n",
      " -5.89e-02  5.84e-02  ...  -1.07e-01 -1.72e-01\n",
      "  1.86e-01  1.70e-01  ...   1.18e-02  1.33e-01\n",
      "         ...           ⋱           ...        \n",
      " -9.74e-03  2.27e-01  ...  -1.67e-01 -1.37e-01\n",
      "  1.39e-01  2.35e-01  ...   1.16e-01  1.59e-01\n",
      "[torch.cuda.FloatTensor of size 36x16x5x5 (GPU 0)]\n",
      "\n"
     ]
    }
   ],
   "source": [
    "print(loaded_model.conv2_w)"
   ]
  },
  {
   "cell_type": "markdown",
   "metadata": {},
   "source": [
    "### Convolutional Weights\n",
    "\n",
    "In order to plot the weights, we take them from the GPU memory into the CPU memory and then convert them to a Numpy array. Conversion to Numpy arrays is only supported for tensors in the CPU memory. Note that the call to `cpu()` will have no effect if the tensor is in the CPU memory already.\n",
    "\n",
    "We first plot the weights of the first convolutional layer from the sequential model."
   ]
  },
  {
   "cell_type": "code",
   "execution_count": 34,
   "metadata": {
    "scrolled": true
   },
   "outputs": [
    {
     "data": {
      "image/png": "[encoded data removed]",
      "text/plain": [
       "<matplotlib.figure.Figure at 0x7feffe44b048>"
      ]
     },
     "metadata": {},
     "output_type": "display_data"
    }
   ],
   "source": [
    "plot_conv_weights(sequential_model[0].weight.data.cpu().numpy())"
   ]
  },
  {
   "cell_type": "markdown",
   "metadata": {},
   "source": [
    "Then the weights of the second convolutional layer from the functional model."
   ]
  },
  {
   "cell_type": "code",
   "execution_count": 35,
   "metadata": {
    "scrolled": true
   },
   "outputs": [
    {
     "data": {
      "image/png": "[encoded data removed]",
      "text/plain": [
       "<matplotlib.figure.Figure at 0x7ff06bf7c160>"
      ]
     },
     "metadata": {},
     "output_type": "display_data"
    }
   ],
   "source": [
    "plot_conv_weights(loaded_model.conv2_w.data.cpu().numpy())"
   ]
  },
  {
   "cell_type": "markdown",
   "metadata": {},
   "source": [
    "### Helper-function for plotting the output of a convolutional layer"
   ]
  },
  {
   "cell_type": "code",
   "execution_count": 36,
   "metadata": {},
   "outputs": [],
   "source": [
    "def plot_conv_output(values):\n",
    "    # Number of filters used in the conv. layer.\n",
    "    num_filters = values.shape[1]\n",
    "\n",
    "    # Number of grids to plot.\n",
    "    # Rounded-up, square-root of the number of filters.\n",
    "    num_grids = math.ceil(math.sqrt(num_filters))\n",
    "\n",
    "    # Create figure with a grid of sub-plots.\n",
    "    fig, axes = plt.subplots(num_grids, num_grids)\n",
    "\n",
    "    # Plot the output images of all the filters.\n",
    "    for i, ax in enumerate(axes.flat):\n",
    "        # Only plot the images for valid filters.\n",
    "        if i < num_filters:\n",
    "            # Get the output image of using the i'th filter.\n",
    "            img = values[0, i, :, :]\n",
    "\n",
    "            # Plot image.\n",
    "            ax.imshow(img, interpolation='nearest', cmap='binary')\n",
    "\n",
    "        # Remove ticks from the plot.\n",
    "        ax.set_xticks([])\n",
    "        ax.set_yticks([])\n",
    "\n",
    "    # Ensure the plot is shown correctly with multiple plots\n",
    "    # in a single Notebook cell.\n",
    "    plt.show()"
   ]
  },
  {
   "cell_type": "markdown",
   "metadata": {},
   "source": [
    "### Input Image\n",
    "\n",
    "Helper-function for plotting a single image."
   ]
  },
  {
   "cell_type": "code",
   "execution_count": 37,
   "metadata": {},
   "outputs": [],
   "source": [
    "def plot_image(image):\n",
    "    plt.imshow(image.reshape(img_shape),\n",
    "               interpolation='nearest',\n",
    "               cmap='binary')\n",
    "\n",
    "    plt.show()"
   ]
  },
  {
   "cell_type": "markdown",
   "metadata": {},
   "source": [
    "Plot an image from the test-set which will be used as an example below."
   ]
  },
  {
   "cell_type": "code",
   "execution_count": 38,
   "metadata": {
    "scrolled": true
   },
   "outputs": [
    {
     "data": {
      "image/png": "[encoded data removed]",
      "text/plain": [
       "<matplotlib.figure.Figure at 0x7feffdd30d68>"
      ]
     },
     "metadata": {},
     "output_type": "display_data"
    }
   ],
   "source": [
    "sample_data_iter = iter(test_loader)\n",
    "images, _ = sample_data_iter.next()\n",
    "plot_image(images[0].numpy())"
   ]
  },
  {
   "cell_type": "markdown",
   "metadata": {},
   "source": [
    "### Output of Convolutional Layer - Sequential Model\n",
    "\n",
    "To capture the output of the second convolutional layer, we copy the already trained sequential model into a new model, but only down to its second convolutional layer included. The copied layers bring along the parameter values as optimized during the training. Then we use the new model for inference."
   ]
  },
  {
   "cell_type": "code",
   "execution_count": 39,
   "metadata": {},
   "outputs": [],
   "source": [
    "# Change [0:4] to [0:1] here below to access the output of the first convolutional layer instead\n",
    "sub_model = nn.Sequential(*list(sequential_model.children())[0:4])"
   ]
  },
  {
   "cell_type": "markdown",
   "metadata": {},
   "source": [
    "We can check that the new model is the same as the previously trained model down to the wanted layer."
   ]
  },
  {
   "cell_type": "code",
   "execution_count": 40,
   "metadata": {},
   "outputs": [
    {
     "name": "stdout",
     "output_type": "stream",
     "text": [
      "Sequential(\n",
      "  (0): Conv2d (1, 16, kernel_size=(5, 5), stride=(1, 1), padding=(2, 2))\n",
      "  (1): ReLU()\n",
      "  (2): MaxPool2d(kernel_size=(2, 2), stride=(2, 2), dilation=(1, 1))\n",
      "  (3): Conv2d (16, 36, kernel_size=(5, 5), stride=(1, 1), padding=(2, 2))\n",
      ")\n"
     ]
    }
   ],
   "source": [
    "print(sub_model)"
   ]
  },
  {
   "cell_type": "markdown",
   "metadata": {},
   "source": [
    "Now we feed the input image to the model just defined, and its output coincides with the output of the second convolutional layer of the starting model. We can plot the output."
   ]
  },
  {
   "cell_type": "code",
   "execution_count": 41,
   "metadata": {
    "scrolled": false
   },
   "outputs": [
    {
     "data": {
      "image/png": "[encoded data removed]",
      "text/plain": [
       "<matplotlib.figure.Figure at 0x7ff06be33d68>"
      ]
     },
     "metadata": {},
     "output_type": "display_data"
    }
   ],
   "source": [
    "if cuda:\n",
    "    images = images.cuda()\n",
    "images = images[0:1]\n",
    "images = Variable(images, volatile=True)\n",
    "conv1_output = sub_model(images)\n",
    "plot_conv_output(conv1_output.data.cpu().numpy())"
   ]
  },
  {
   "cell_type": "markdown",
   "metadata": {},
   "source": [
    "## Conclusion\n",
    "\n",
    "This tutorial showed how to use Pytorch to build and train a Convolutional Neural Network, using either the functional API or the sequential API. Comparing it with the original tutorial based on Tensorflow and Keras, I would say that the Pytorch API has a level of abstraction closer to Tensorflow than Keras, allowing to define the computational graph node by node. \n",
    "\n",
    "Pytorch also allows to do it layer by layer, in a similar way to Keras. However, more programming is needed compared to Keras, as we had to write our own code to run the optimization of the NN and test its accuracy; this contrasts with Keras, that, once the model is defined, just requires to \"compile\" it, choosing a loss function and an optimization algorithm.\n",
    "\n",
    "This tutorial also showed how to use Pytorch to save and load a model, as well as getting the weights and outputs of convolutional layers.\n",
    "\n",
    "Even while implementing the straightforward model of the tutorial, I appreciated how easier it is to debug than with Keras and Tensorflow.  "
   ]
  },
  {
   "cell_type": "markdown",
   "metadata": {},
   "source": [
    "## License (MIT)\n",
    "\n",
    "Copyright (c) 2017 by Francesco G. Fantauzzi\n",
    "\n",
    "Copyright (c) 2016-2017 by [Magnus Erik Hvass Pedersen](http://www.hvass-labs.org/)\n",
    "\n",
    "Permission is hereby granted, free of charge, to any person obtaining a copy of this software and associated documentation files (the \"Software\"), to deal in the Software without restriction, including without limitation the rights to use, copy, modify, merge, publish, distribute, sublicense, and/or sell copies of the Software, and to permit persons to whom the Software is furnished to do so, subject to the following conditions:\n",
    "\n",
    "The above copyright notice and this permission notice shall be included in all copies or substantial portions of the Software.\n",
    "\n",
    "THE SOFTWARE IS PROVIDED \"AS IS\", WITHOUT WARRANTY OF ANY KIND, EXPRESS OR IMPLIED, INCLUDING BUT NOT LIMITED TO THE WARRANTIES OF MERCHANTABILITY, FITNESS FOR A PARTICULAR PURPOSE AND NONINFRINGEMENT. IN NO EVENT SHALL THE AUTHORS OR COPYRIGHT HOLDERS BE LIABLE FOR ANY CLAIM, DAMAGES OR OTHER LIABILITY, WHETHER IN AN ACTION OF CONTRACT, TORT OR OTHERWISE, ARISING FROM, OUT OF OR IN CONNECTION WITH THE SOFTWARE OR THE USE OR OTHER DEALINGS IN THE SOFTWARE."
   ]
  }
 ],
 "metadata": {
  "anaconda-cloud": {},
  "kernelspec": {
   "display_name": "Python 3",
   "language": "python",
   "name": "python3"
  },
  "language_info": {
   "codemirror_mode": {
    "name": "ipython",
    "version": 3
   },
   "file_extension": ".py",
   "mimetype": "text/x-python",
   "name": "python",
   "nbconvert_exporter": "python",
   "pygments_lexer": "ipython3",
   "version": "3.5.2"
  }
 },
 "nbformat": 4,
 "nbformat_minor": 1
}
