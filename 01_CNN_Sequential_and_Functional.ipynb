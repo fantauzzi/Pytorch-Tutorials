{
 "cells": [
  {
   "cell_type": "markdown",
   "metadata": {},
   "source": [
    "# Pytorch Tutorial #01\n",
    "# CNN with Pytorch Sequential and Functional API\n",
    "\n",
    "by Francesco G. Fantauzzi\n",
    "/ [GitHub](https://github.com/fantauzzi/Pytorch-Tutorials)\n",
    "\n",
    "Adapted from [Magnus Erik Hvass Pedersen](http://www.hvass-labs.org/) tutorial\n",
    "/ [GitHub](https://github.com/Hvass-Labs/TensorFlow-Tutorials/03C_Keras_API.ipynb) / [Videos on YouTube](https://www.youtube.com/playlist?list=PL9Hr9sNUjfsmEu1ZniY0XpHSzl5uihcXZ)"
   ]
  },
  {
   "cell_type": "markdown",
   "metadata": {},
   "source": [
    "# WIP - Work in Progress"
   ]
  },
  {
   "cell_type": "markdown",
   "metadata": {},
   "source": [
    "## Introduction\n",
    "\n",
    "This tutorial uses Pytorch to implement a Convolutional Neural Network (CNN) for handwritten digits recognition, trained on the MNIST dataset. The tutorial demonstrates two different programming styles to define the Neural Network model, called \"sequential\" and \"functional\", supported by Pytorch. \n",
    "\n",
    "Interestingly enough, Keras already supports two similar programming styles for model definition. Unlike Keras, Pytorch currently doesn't infer the shape of the tensors going into a layer based on the output of the previous layer; the programmer needs to code it. At least, determining the shape of a tensor with Pytorch is as easy as inspecting a variable via debugger.\n",
    "\n",
    "I have ported Magnus Pedersen's fine [tutorial](https://github.com/Hvass-Labs/TensorFlow-Tutorials) from Keras/Tensorflow to Pytorch, as a self-teaching exercise. I appreciated how easier it is to debug a model with Pytorch, as one can step through the computation and inspect any tensor or variable with a Python debugger, like for any Python program.\n",
    "\n",
    "In porting Mr. Pedersen's tutorial I have reworked the code to use Pytorch API, and updated the narrative conequently, keeping what I could."
   ]
  },
  {
   "cell_type": "markdown",
   "metadata": {},
   "source": [
    "## Flowchart"
   ]
  },
  {
   "cell_type": "markdown",
   "metadata": {},
   "source": [
    "The following chart shows roughly how the data flows in the Convolutional Neural Network that is implemented below. See Tutorial #02 of Mr. Pedersen's for a more detailed description of convolution.\n",
    "\n",
    "There are two convolutional layers, each followed by a RELU and down-sampling using max-pooling (not shown in this flowchart). Then there are two fully-connected layers ending in a classifier. Note that in the original Keras tutorial it is a softmax classifier, while here the output of the NN is just an array of 10 scores, not probabilities. That is because of the adopted loss function, see below for more information on this."
   ]
  },
  {
   "cell_type": "markdown",
   "metadata": {},
   "source": [
    "![Flowchart](images/02_network_flowchart.png)"
   ]
  },
  {
   "cell_type": "markdown",
   "metadata": {},
   "source": [
    "## Imports"
   ]
  },
  {
   "cell_type": "code",
   "execution_count": 1,
   "metadata": {},
   "outputs": [],
   "source": [
    "%matplotlib inline\n",
    "import math\n",
    "import matplotlib.pyplot as plt\n",
    "import numpy as np\n",
    "import torch\n",
    "import torch.nn as nn\n",
    "import torch.nn.functional as F\n",
    "import torch.optim as optim\n",
    "from torch.nn.parameter import Parameter\n",
    "from torchvision import datasets, transforms\n",
    "from torch.autograd import Variable"
   ]
  },
  {
   "cell_type": "markdown",
   "metadata": {},
   "source": [
    "##### This was developed using Python 3.5 and Pytorch version:"
   ]
  },
  {
   "cell_type": "code",
   "execution_count": 2,
   "metadata": {
    "scrolled": true
   },
   "outputs": [
    {
     "data": {
      "text/plain": [
       "'0.3.0.post4'"
      ]
     },
     "execution_count": 2,
     "metadata": {},
     "output_type": "execute_result"
    }
   ],
   "source": [
    "torch.__version__"
   ]
  },
  {
   "cell_type": "markdown",
   "metadata": {},
   "source": [
    "## Set the Dataset Loaders"
   ]
  },
  {
   "cell_type": "markdown",
   "metadata": {},
   "source": [
    "The MNIST data-set is about 12 MB and will be downloaded automatically if it is not located in the given path."
   ]
  },
  {
   "cell_type": "code",
   "execution_count": 3,
   "metadata": {},
   "outputs": [],
   "source": [
    "cuda = torch.cuda.is_available()\n",
    "\n",
    "batch_size = 128\n",
    "test_batch_size = 128\n",
    "epochs = 4\n",
    "\n",
    "kwargs = {'num_workers': 1, 'pin_memory': True} if cuda else {}\n",
    "\n",
    "train_loader = torch.utils.data.DataLoader(\n",
    "    datasets.MNIST('./data', train=True, download=True,\n",
    "                   transform=transforms.Compose([\n",
    "                       transforms.ToTensor(),\n",
    "                       transforms.Normalize((0.1307,), (0.3081,))\n",
    "                   ])),\n",
    "    batch_size=batch_size, shuffle=True, **kwargs)\n",
    "\n",
    "test_loader = torch.utils.data.DataLoader(\n",
    "    datasets.MNIST('./data', train=False, transform=transforms.Compose([\n",
    "        transforms.ToTensor(),\n",
    "        transforms.Normalize((0.1307,), (0.3081,))\n",
    "    ])),\n",
    "    batch_size=test_batch_size, shuffle=True, **kwargs)"
   ]
  },
  {
   "cell_type": "markdown",
   "metadata": {},
   "source": [
    "The MNIST data-set has now been loaded and consists of 70,000 images and associated labels (i.e. classifications of the images). The data-set is partitioned into 2 sub-sets, a training-set and a test-set."
   ]
  },
  {
   "cell_type": "code",
   "execution_count": 4,
   "metadata": {},
   "outputs": [
    {
     "name": "stdout",
     "output_type": "stream",
     "text": [
      "Size of:\n",
      "- Training-set:\t\t60000\n",
      "- Test-set:\t\t10000\n"
     ]
    }
   ],
   "source": [
    "# This may take several seconds to run, as it reads the whole dataset from storage.\n",
    "test_data_iter = iter(test_loader)\n",
    "test_set_size = sum(len(batch[0]) for batch in test_data_iter)\n",
    "training_data_iter = iter(train_loader)\n",
    "training_set_size = sum(len(batch[0]) for batch in training_data_iter)\n",
    "\n",
    "print(\"Size of:\")\n",
    "print(\"- Training-set:\\t\\t{}\".format(training_set_size))\n",
    "print(\"- Test-set:\\t\\t{}\".format(test_set_size))"
   ]
  },
  {
   "cell_type": "markdown",
   "metadata": {},
   "source": [
    "## Data Dimensions"
   ]
  },
  {
   "cell_type": "markdown",
   "metadata": {},
   "source": [
    "The data dimensions are used in several places in the source-code below. They are defined once so we can use these variables instead of numbers throughout the source-code below."
   ]
  },
  {
   "cell_type": "code",
   "execution_count": 5,
   "metadata": {},
   "outputs": [],
   "source": [
    "# We know that MNIST images are 28 pixels in each dimension.\n",
    "img_size = 28\n",
    "\n",
    "# Images are stored in one-dimensional arrays of this length.\n",
    "img_size_flat = img_size * img_size\n",
    "\n",
    "# Tuple with height and width of images used to reshape arrays.\n",
    "img_shape = (img_size, img_size)\n",
    "\n",
    "# Number of colour channels for the images: 1 channel for gray-scale.\n",
    "num_channels = 1\n",
    "\n",
    "# Number of classes, one class for each of 10 digits.\n",
    "num_classes = 10"
   ]
  },
  {
   "cell_type": "markdown",
   "metadata": {},
   "source": [
    "### Helper-function for plotting images"
   ]
  },
  {
   "cell_type": "markdown",
   "metadata": {},
   "source": [
    "Function used to plot 9 images in a 3x3 grid, and writing the true and predicted classes below each image."
   ]
  },
  {
   "cell_type": "code",
   "execution_count": 6,
   "metadata": {},
   "outputs": [],
   "source": [
    "def plot_images(images, cls_true, cls_pred=None):\n",
    "    assert len(images) == len(cls_true) == 9\n",
    "\n",
    "    # Create figure with 3x3 sub-plots.\n",
    "    fig, axes = plt.subplots(3, 3)\n",
    "    fig.subplots_adjust(hspace=0.3, wspace=0.3)\n",
    "\n",
    "    for i, ax in enumerate(axes.flat):\n",
    "        # Plot image.\n",
    "        ax.imshow(images[i].reshape(img_shape), cmap='binary')\n",
    "\n",
    "        # Show true and predicted classes.\n",
    "        if cls_pred is None:\n",
    "            xlabel = \"True: {0}\".format(cls_true[i])\n",
    "        else:\n",
    "            xlabel = \"True: {0}, Pred: {1}\".format(cls_true[i], cls_pred[i])\n",
    "\n",
    "        # Show the classes as the label on the x-axis.\n",
    "        ax.set_xlabel(xlabel)\n",
    "\n",
    "        # Remove ticks from the plot.\n",
    "        ax.set_xticks([])\n",
    "        ax.set_yticks([])\n",
    "\n",
    "    # Ensure the plot is shown correctly with multiple plots\n",
    "    # in a single Notebook cell.\n",
    "    plt.show()"
   ]
  },
  {
   "cell_type": "markdown",
   "metadata": {},
   "source": [
    "### Plot a few images to see if data is correct"
   ]
  },
  {
   "cell_type": "code",
   "execution_count": 7,
   "metadata": {},
   "outputs": [
    {
     "data": {
      "image/png": "[encoded data removed]",
      "text/plain": [
       "<matplotlib.figure.Figure at 0x7fe144b6aa90>"
      ]
     },
     "metadata": {},
     "output_type": "display_data"
    }
   ],
   "source": [
    "''' Fetch nine images from the training-set and plot them. Note they can differ from run to run, as the\n",
    "training-set gets shuffled ''' \n",
    "\n",
    "sample_data_iter = iter(train_loader)\n",
    "images, labels = sample_data_iter.next()\n",
    "images = images.numpy()[0:9]\n",
    "labels = labels.numpy()[0:9]\n",
    "plot_images(images, labels)"
   ]
  },
  {
   "cell_type": "markdown",
   "metadata": {},
   "source": [
    "### Helper-functions to plot classified and misclassified images\n",
    "\n",
    "Functions for plotting examples of images from the dataset-set that along with their classification."
   ]
  },
  {
   "cell_type": "code",
   "execution_count": 8,
   "metadata": {},
   "outputs": [],
   "source": [
    "def array_from_variable(var):\n",
    "    return var.cpu().data.numpy()\n",
    "\n",
    "\n",
    "def array_from_tensor(tensor):\n",
    "    return tensor.cpu().numpy()\n",
    "\n",
    "\n",
    "def plot_classified_sample(dataset_loader, model):\n",
    "    data_iter = iter(dataset_loader)\n",
    "    images, labels = data_iter.next()\n",
    "    images = images[0:9]\n",
    "    labels = labels.numpy()[0:9]\n",
    "    if cuda:\n",
    "        images = images.cuda()\n",
    "    images = Variable(images, volatile=True)\n",
    "    pred_scores = model(images)\n",
    "    predicted = pred_scores.data.max(1, keepdim=True)[1]\n",
    "\n",
    "    plot_images(array_from_variable(images), cls_true=labels, cls_pred=array_from_tensor(predicted))"
   ]
  },
  {
   "cell_type": "markdown",
   "metadata": {},
   "source": [
    "## Keras API\n",
    "\n",
    "This is how the Convolutional Neural Network was implemented in Mr. Pedersen's Tutorial #03-C using the Keras API. It is shown here for easy comparison to the Pytorch implementation below."
   ]
  },
  {
   "cell_type": "code",
   "execution_count": 9,
   "metadata": {},
   "outputs": [],
   "source": [
    "if False:\n",
    "    # Start construction of the Keras Sequential model.\n",
    "    model = Sequential()\n",
    "\n",
    "    # Add an input layer which is similar to a feed_dict in TensorFlow.\n",
    "    # Note that the input-shape must be a tuple containing the image-size.\n",
    "    model.add(InputLayer(input_shape=(img_size_flat,)))\n",
    "\n",
    "    # The input is a flattened array with 784 elements,\n",
    "    # but the convolutional layers expect images with shape (28, 28, 1)\n",
    "    model.add(Reshape(img_shape_full))\n",
    "\n",
    "    # First convolutional layer with ReLU-activation and max-pooling.\n",
    "    model.add(Conv2D(kernel_size=5, strides=1, filters=16, padding='same',\n",
    "                     activation='relu', name='layer_conv1'))\n",
    "    model.add(MaxPooling2D(pool_size=2, strides=2))\n",
    "\n",
    "    # Second convolutional layer with ReLU-activation and max-pooling.\n",
    "    model.add(Conv2D(kernel_size=5, strides=1, filters=36, padding='same',\n",
    "                     activation='relu', name='layer_conv2'))\n",
    "    model.add(MaxPooling2D(pool_size=2, strides=2))\n",
    "\n",
    "    # Flatten the 4-rank output of the convolutional layers\n",
    "    # to 2-rank that can be input to a fully-connected / dense layer.\n",
    "    model.add(Flatten())\n",
    "\n",
    "    # First fully-connected / dense layer with ReLU-activation.\n",
    "    model.add(Dense(128, activation='relu'))\n",
    "\n",
    "    # Last fully-connected / dense layer with softmax-activation\n",
    "    # for use in classification.\n",
    "    model.add(Dense(num_classes, activation='softmax'))"
   ]
  },
  {
   "cell_type": "markdown",
   "metadata": {},
   "source": [
    "## Sequential Model\n",
    "\n",
    "The Pytorch API has two modes of constructing Neural Networks. The simplest is the Sequential Model which only allows for the layers to be added in sequence."
   ]
  },
  {
   "cell_type": "code",
   "execution_count": 10,
   "metadata": {
    "scrolled": true
   },
   "outputs": [],
   "source": [
    "''' Set the size for the kernels and the amount of padding for the two convolutional layers.\n",
    "Pytorch, unlike Keras, does not automatically compute the padding for \"same\" or \"valid\" padding,\n",
    "so it is calculated below '''\n",
    "conv1_kernel_size = 5\n",
    "conv1_pad = int((conv1_kernel_size - 1) / 2)\n",
    "assert ((conv1_kernel_size - 1) % 2 == 0)\n",
    "conv2_kernel_size = 5\n",
    "conv2_pad = int((conv2_kernel_size - 1) / 2)\n",
    "\n",
    "\n",
    "# Pytorch sequential model doesn't include a layer for flattening, oddly enough; so we make our own.\n",
    "class Flatten(nn.Module):\n",
    "\n",
    "    def forward(self, x):\n",
    "        return x.view(x.size(0), -1)\n",
    "\n",
    "    def __repr__(self):\n",
    "        return 'Flatten()'\n",
    "\n",
    "\n",
    "sequential_model = nn.Sequential(\n",
    "    nn.Conv2d(in_channels=1, out_channels=16, kernel_size=conv1_kernel_size, padding=conv1_pad),\n",
    "    nn.ReLU(),\n",
    "    nn.MaxPool2d(kernel_size=2),\n",
    "    nn.Conv2d(in_channels=16, out_channels=36, kernel_size=conv2_kernel_size, padding=conv2_pad),\n",
    "    nn.ReLU(),\n",
    "    nn.MaxPool2d(kernel_size=2),\n",
    "    Flatten(),\n",
    "    nn.Linear(in_features=1764, out_features=128),  # 36 channels times 7x7 grayscale pictures = 1764 input features\n",
    "    nn.ReLU(),\n",
    "    nn.Linear(in_features=128, out_features=num_classes)\n",
    ")\n",
    "\n",
    "# Move the model to the GPU, if available\n",
    "if cuda:\n",
    "    sequential_model = sequential_model.cuda()\n"
   ]
  },
  {
   "cell_type": "markdown",
   "metadata": {},
   "source": [
    "### Choice of an Optimizer\n",
    "\n",
    "Pytorch provides a set of optimizers ready to be used. Here I instantiate an Adam optimizer and set its learning rate."
   ]
  },
  {
   "cell_type": "code",
   "execution_count": 11,
   "metadata": {},
   "outputs": [],
   "source": [
    "optimizer = optim.Adam(params=sequential_model.parameters(), lr=1e-3)"
   ]
  },
  {
   "cell_type": "markdown",
   "metadata": {},
   "source": [
    "### Training\n",
    "\n",
    "Now that the model and optimizer have been defined, we implement two functions to respectively train and test the model. As far as I know, Pytorch doesn't provide something like a `fit()` method, the way scikit-learn and Keras do."
   ]
  },
  {
   "cell_type": "code",
   "execution_count": 12,
   "metadata": {},
   "outputs": [],
   "source": [
    "def train(epoch, model, optimizer, train_loader):\n",
    "    model.train()\n",
    "    for batch_idx, (data, target) in enumerate(train_loader):\n",
    "        if cuda:\n",
    "            data, target = data.cuda(), target.cuda()\n",
    "        data, target = Variable(data), Variable(target)\n",
    "        optimizer.zero_grad()\n",
    "        prediction = model(data)\n",
    "        loss = F.cross_entropy(input=prediction, target=target)\n",
    "        loss.backward()\n",
    "        optimizer.step()\n",
    "        if batch_idx % 100 == 0:\n",
    "            print('Train Epoch: {} [{}/{} ({:.0f}%)]\\tLoss: {:.6f}'.format(\n",
    "                epoch, batch_idx * len(data), len(train_loader.dataset),\n",
    "                       100. * batch_idx / len(train_loader), loss.data[0]))\n",
    "\n",
    "\n",
    "def test(model, test_loader):\n",
    "    model.eval()  # Actually necessary if the model includes layers like Dropout or BatchNorm\n",
    "    test_loss = 0\n",
    "    correct = 0\n",
    "    for data, target in test_loader:\n",
    "        if cuda:\n",
    "            data, target = data.cuda(), target.cuda()\n",
    "        # Variable below set to volatile for efficiency, as the model here is used for inference only, no training\n",
    "        data, target = Variable(data, volatile=True), Variable(target)\n",
    "        prediction = model(data)\n",
    "        test_loss += F.cross_entropy(prediction, target, size_average=False).data[0]  # sum up batch loss\n",
    "        pred_idx = prediction.data.max(1, keepdim=True)[1]  # get the index of the max score\n",
    "        correct += pred_idx.eq(target.data.view_as(pred_idx)).cpu().sum()\n",
    "        \n",
    "    test_loss /= len(test_loader.dataset)\n",
    "    print('\\nTest set: Average loss: {:.4f}, Accuracy: {}/{} ({:.0f}%)\\n'.format(\n",
    "        test_loss, correct, len(test_loader.dataset),\n",
    "        100. * correct / len(test_loader.dataset)))"
   ]
  },
  {
   "cell_type": "markdown",
   "metadata": {},
   "source": [
    "We are now ready to train and test the model for the wanted number of epochs. In every epoch, training goes through the whole training data-set."
   ]
  },
  {
   "cell_type": "code",
   "execution_count": 13,
   "metadata": {},
   "outputs": [
    {
     "name": "stdout",
     "output_type": "stream",
     "text": [
      "Train Epoch: 0 [0/60000 (0%)]\tLoss: 2.310035\n",
      "Train Epoch: 0 [12800/60000 (21%)]\tLoss: 0.155828\n",
      "Train Epoch: 0 [25600/60000 (43%)]\tLoss: 0.104923\n",
      "Train Epoch: 0 [38400/60000 (64%)]\tLoss: 0.067333\n",
      "Train Epoch: 0 [51200/60000 (85%)]\tLoss: 0.071288\n",
      "Train Epoch: 1 [0/60000 (0%)]\tLoss: 0.070758\n",
      "Train Epoch: 1 [12800/60000 (21%)]\tLoss: 0.043085\n",
      "Train Epoch: 1 [25600/60000 (43%)]\tLoss: 0.033242\n",
      "Train Epoch: 1 [38400/60000 (64%)]\tLoss: 0.014754\n",
      "Train Epoch: 1 [51200/60000 (85%)]\tLoss: 0.091536\n",
      "Train Epoch: 2 [0/60000 (0%)]\tLoss: 0.028711\n",
      "Train Epoch: 2 [12800/60000 (21%)]\tLoss: 0.027361\n",
      "Train Epoch: 2 [25600/60000 (43%)]\tLoss: 0.012505\n",
      "Train Epoch: 2 [38400/60000 (64%)]\tLoss: 0.002802\n",
      "Train Epoch: 2 [51200/60000 (85%)]\tLoss: 0.050542\n",
      "Train Epoch: 3 [0/60000 (0%)]\tLoss: 0.048846\n",
      "Train Epoch: 3 [12800/60000 (21%)]\tLoss: 0.030694\n",
      "Train Epoch: 3 [25600/60000 (43%)]\tLoss: 0.029617\n",
      "Train Epoch: 3 [38400/60000 (64%)]\tLoss: 0.015451\n",
      "Train Epoch: 3 [51200/60000 (85%)]\tLoss: 0.021224\n"
     ]
    }
   ],
   "source": [
    "for epoch in range(epochs):\n",
    "    train(epoch, sequential_model, optimizer, train_loader)"
   ]
  },
  {
   "cell_type": "markdown",
   "metadata": {},
   "source": [
    "### Evaluation\n",
    "\n",
    "Now that the model has been trained we can test its performance on the test-set."
   ]
  },
  {
   "cell_type": "code",
   "execution_count": 14,
   "metadata": {},
   "outputs": [
    {
     "name": "stdout",
     "output_type": "stream",
     "text": [
      "\n",
      "Test set: Average loss: 0.0297, Accuracy: 9910/10000 (99%)\n",
      "\n"
     ]
    }
   ],
   "source": [
    "test(sequential_model, test_loader)"
   ]
  },
  {
   "cell_type": "markdown",
   "metadata": {},
   "source": [
    "### Prediction\n",
    "\n",
    "We can also predict the classification for new images. We will just use some images from the test-set but you could load your own images into numpy arrays and use those instead."
   ]
  },
  {
   "cell_type": "code",
   "execution_count": 15,
   "metadata": {},
   "outputs": [
    {
     "data": {
      "image/png": "[encoded data removed]",
      "text/plain": [
       "<matplotlib.figure.Figure at 0x7fe1b4374b00>"
      ]
     },
     "metadata": {},
     "output_type": "display_data"
    }
   ],
   "source": [
    "plot_classified_sample(test_loader, sequential_model)"
   ]
  },
  {
   "cell_type": "markdown",
   "metadata": {},
   "source": [
    "### Examples of Mis-Classified Images\n",
    "\n",
    "We define a function to sample and plot nine mis-classified images from the test-set."
   ]
  },
  {
   "cell_type": "code",
   "execution_count": 16,
   "metadata": {},
   "outputs": [],
   "source": [
    "def plot_misclassified_sample(dataset_loader, model):\n",
    "    data_iter = iter(dataset_loader)\n",
    "    misclassified, prediction, correct_cls = [], [], []\n",
    "    # Fetch enough samples from the dataset to collect at least 9 misclassified samples\n",
    "    for images, labels in data_iter:\n",
    "        if cuda:\n",
    "            images = images.cuda()\n",
    "        images = Variable(images, volatile=True)\n",
    "        pred_scores = model(images)\n",
    "        predicted = array_from_tensor(pred_scores.data.max(1, keepdim=True)[1]).squeeze()\n",
    "        incorrect = (predicted != labels.numpy())\n",
    "        misclassified.extend(array_from_variable(images)[incorrect])\n",
    "        prediction.extend(predicted[incorrect])\n",
    "        correct_cls.extend(labels.numpy()[incorrect])\n",
    "        if len(misclassified) >= 9:\n",
    "            break\n",
    "            \n",
    "    plot_images(images=misclassified[0:9],\n",
    "            cls_true=correct_cls[0:9],\n",
    "            cls_pred=prediction[0:9])"
   ]
  },
  {
   "cell_type": "markdown",
   "metadata": {},
   "source": [
    "We can then plot some examples of mis-classified images."
   ]
  },
  {
   "cell_type": "code",
   "execution_count": 17,
   "metadata": {},
   "outputs": [
    {
     "data": {
      "image/png": "[encoded data removed]",
      "text/plain": [
       "<matplotlib.figure.Figure at 0x7fe1ac6e8208>"
      ]
     },
     "metadata": {},
     "output_type": "display_data"
    }
   ],
   "source": [
    "plot_misclassified_sample(test_loader, sequential_model)"
   ]
  },
  {
   "cell_type": "markdown",
   "metadata": {},
   "source": [
    "## Functional Model\n",
    "\n",
    "The Pytorch API also supports a different way to described the model: the functional API, found under package `torch.nn.functional`. It can be used to construct more complicated networks. To demonstrate its usage, we will build again the model previously built with the sequential API.\n",
    "\n",
    "Pytorch provides class `nn.Module` as a container for network models; by deriving our class from it, we can use its services. Note that we are deriving from an `nn.Mudule` here for convenience, but using the functional API doesn't require it, and we could adopt `nn.Module` and use the sequential API instead. For an example of mixing sequential and functional API in a sub-class of `nn.Module`, see the [Deep Learning with PyTorch: A 60 Minute Blitz](http://pytorch.org/tutorials/beginner/blitz/neural_networks_tutorial.html#define-the-network)."
   ]
  },
  {
   "cell_type": "code",
   "execution_count": 18,
   "metadata": {},
   "outputs": [],
   "source": [
    "class FunctionalModel(nn.Module):\n",
    "    def __init__(self):\n",
    "        super(FunctionalModel, self).__init__()\n",
    "\n",
    "        def get_conv_weight_and_bias(n_input, n_output, k1, k2):\n",
    "            w = Parameter(torch.Tensor(n_output, n_input, k1, k2))\n",
    "            stdv = 1. / math.sqrt(n_input)\n",
    "            nn.init.uniform(w, -stdv, stdv)\n",
    "            b = Parameter(torch.Tensor(n_output))\n",
    "            nn.init.uniform(b, -stdv, stdv)\n",
    "            return w, b\n",
    "\n",
    "        def get_linear_weight_and_bias(n_input, n_output):\n",
    "            w = Parameter(torch.Tensor(n_output, n_input))\n",
    "            stdv = 1. / math.sqrt(w.size(1))\n",
    "            nn.init.uniform(w, -stdv, stdv)\n",
    "            b = Parameter(torch.Tensor(n_output))\n",
    "            nn.init.uniform(b, -stdv, stdv)\n",
    "            return w, b\n",
    "\n",
    "        conv1_kernel_size = 5\n",
    "        assert ((conv1_kernel_size - 1) % 2 == 0)\n",
    "        self.conv1_pad = int((conv1_kernel_size - 1) / 2)\n",
    "        conv2_kernel_size = 5\n",
    "        assert ((conv2_kernel_size - 1) % 2 == 0)\n",
    "        self.conv2_pad = int((conv2_kernel_size - 1) / 2)\n",
    "\n",
    "        self.conv1_w, self.conv1_b = get_conv_weight_and_bias(n_input=1, n_output=16, k1=conv1_kernel_size,\n",
    "                                                              k2=conv1_kernel_size)\n",
    "        self.conv2_w, self.conv2_b = get_conv_weight_and_bias(n_input=16, n_output=36, k1=conv2_kernel_size,\n",
    "                                                              k2=conv2_kernel_size)\n",
    "        self.fc1_w, self.fc1_b = get_linear_weight_and_bias(n_input=1764, n_output=128)\n",
    "        self.fc2_w, self.fc2_b = get_linear_weight_and_bias(n_input=128, n_output=num_classes)\n",
    "\n",
    "    def forward(self, x):\n",
    "        x = F.conv2d(input=x, weight=self.conv1_w, bias=self.conv1_b, padding=self.conv1_pad)\n",
    "        x = F.max_pool2d(F.relu(x), 2)\n",
    "        x = F.conv2d(input=x, weight=self.conv2_w, bias=self.conv2_b, padding=self.conv2_pad)\n",
    "        x = F.max_pool2d(F.relu(x), 2)\n",
    "        x = x.view(x.size(0), -1)  # Flatten but keep the same batch size\n",
    "        x = F.linear(input=x, weight=self.fc1_w, bias=self.fc1_b)\n",
    "        x = F.relu(x)\n",
    "        x = F.linear(input=x, weight=self.fc2_w, bias=self.fc2_b)\n",
    "        return x\n",
    "\n",
    "\n",
    "functional_model = FunctionalModel()\n",
    "\n",
    "if cuda:\n",
    "    functional_model.cuda()"
   ]
  },
  {
   "cell_type": "markdown",
   "metadata": {},
   "source": [
    "As you see in the code above, using the fucntional API requires us to define and initialize the weight and bias matrices for the convolutional and linear (fully-connected) layers. I am initializing them the way the sequential model does, from a uniform distribution, in order to obtain results that are comparable."
   ]
  },
  {
   "cell_type": "markdown",
   "metadata": {},
   "source": [
    "### Choice of an Optimizer\n",
    "\n",
    "Before training the NN, we need to choose an optimizer; like we did when we used the sequential API, we pick an Adam optimizer with loss rate set to 0.001."
   ]
  },
  {
   "cell_type": "code",
   "execution_count": 19,
   "metadata": {},
   "outputs": [],
   "source": [
    "optimizer = optim.Adam(params=functional_model.parameters(), lr=1e-3)"
   ]
  },
  {
   "cell_type": "markdown",
   "metadata": {},
   "source": [
    "### Training\n",
    "\n",
    "The same function defined to train the sequential model can train the functional model just implemented."
   ]
  },
  {
   "cell_type": "code",
   "execution_count": 20,
   "metadata": {},
   "outputs": [
    {
     "name": "stdout",
     "output_type": "stream",
     "text": [
      "Train Epoch: 0 [0/60000 (0%)]\tLoss: 3.291628\n",
      "Train Epoch: 0 [12800/60000 (21%)]\tLoss: 0.127290\n",
      "Train Epoch: 0 [25600/60000 (43%)]\tLoss: 0.129299\n",
      "Train Epoch: 0 [38400/60000 (64%)]\tLoss: 0.114817\n",
      "Train Epoch: 0 [51200/60000 (85%)]\tLoss: 0.031689\n",
      "Train Epoch: 1 [0/60000 (0%)]\tLoss: 0.032370\n",
      "Train Epoch: 1 [12800/60000 (21%)]\tLoss: 0.068001\n",
      "Train Epoch: 1 [25600/60000 (43%)]\tLoss: 0.014976\n",
      "Train Epoch: 1 [38400/60000 (64%)]\tLoss: 0.081836\n",
      "Train Epoch: 1 [51200/60000 (85%)]\tLoss: 0.064749\n",
      "Train Epoch: 2 [0/60000 (0%)]\tLoss: 0.032998\n",
      "Train Epoch: 2 [12800/60000 (21%)]\tLoss: 0.013309\n",
      "Train Epoch: 2 [25600/60000 (43%)]\tLoss: 0.015678\n",
      "Train Epoch: 2 [38400/60000 (64%)]\tLoss: 0.060850\n",
      "Train Epoch: 2 [51200/60000 (85%)]\tLoss: 0.009051\n",
      "Train Epoch: 3 [0/60000 (0%)]\tLoss: 0.055539\n",
      "Train Epoch: 3 [12800/60000 (21%)]\tLoss: 0.014013\n",
      "Train Epoch: 3 [25600/60000 (43%)]\tLoss: 0.015646\n",
      "Train Epoch: 3 [38400/60000 (64%)]\tLoss: 0.019385\n",
      "Train Epoch: 3 [51200/60000 (85%)]\tLoss: 0.065641\n"
     ]
    }
   ],
   "source": [
    "for epoch in range(epochs):\n",
    "    train(epoch, functional_model, optimizer, train_loader)"
   ]
  },
  {
   "cell_type": "markdown",
   "metadata": {},
   "source": [
    "### Evaluation\n",
    "\n",
    "Once the model has been trained we can evaluate its performance on the test-set. The function defined to test the sequential model will do here as well."
   ]
  },
  {
   "cell_type": "code",
   "execution_count": 21,
   "metadata": {},
   "outputs": [
    {
     "name": "stdout",
     "output_type": "stream",
     "text": [
      "\n",
      "Test set: Average loss: 0.0352, Accuracy: 9889/10000 (99%)\n",
      "\n"
     ]
    }
   ],
   "source": [
    "test(functional_model, test_loader)"
   ]
  },
  {
   "cell_type": "markdown",
   "metadata": {},
   "source": [
    "### Examples of Mis-Classified Images\n",
    "\n",
    "We can plot some examples of images from the test-set mis-classified by the functional model.\n",
    "\n",
    "First we get the predicted classes for all the images in the test-set:"
   ]
  },
  {
   "cell_type": "code",
   "execution_count": 22,
   "metadata": {},
   "outputs": [
    {
     "data": {
      "image/png": "[encoded data removed]",
      "text/plain": [
       "<matplotlib.figure.Figure at 0x7fe198a5be80>"
      ]
     },
     "metadata": {},
     "output_type": "display_data"
    }
   ],
   "source": [
    "plot_misclassified_sample(test_loader, functional_model)"
   ]
  },
  {
   "cell_type": "markdown",
   "metadata": {},
   "source": [
    "## Save & Load Model\n",
    "\n",
    "We can save the model and load it again to make predictions.\n",
    "\n",
    "This is the file-path where we want to save the Pytorch model."
   ]
  },
  {
   "cell_type": "code",
   "execution_count": 23,
   "metadata": {},
   "outputs": [],
   "source": [
    "saved_model_path = 'model.p'"
   ]
  },
  {
   "cell_type": "markdown",
   "metadata": {},
   "source": [
    "We now save the model state dictionary, which will be enough to make predictions with the same model. To be able to resume the computation with the saved model, we would need to save additional information, such as the model parameters and optimizer. For an example of saving and resuming the computation, see this [Wide Residual Network](https://github.com/szagoruyko/wide-residual-networks/blob/master/pytorch/main.py)."
   ]
  },
  {
   "cell_type": "code",
   "execution_count": 24,
   "metadata": {
    "scrolled": true
   },
   "outputs": [],
   "source": [
    "torch.save(functional_model.state_dict(), saved_model_path)"
   ]
  },
  {
   "cell_type": "markdown",
   "metadata": {},
   "source": [
    "Delete the model from memory so we are sure it is no longer used."
   ]
  },
  {
   "cell_type": "code",
   "execution_count": 25,
   "metadata": {},
   "outputs": [],
   "source": [
    "del functional_model"
   ]
  },
  {
   "cell_type": "markdown",
   "metadata": {},
   "source": [
    "Re-loading the model requires to instantiate it first."
   ]
  },
  {
   "cell_type": "code",
   "execution_count": 26,
   "metadata": {},
   "outputs": [],
   "source": [
    "loaded_model = FunctionalModel()\n",
    "if cuda:\n",
    "    loaded_model = loaded_model.cuda()"
   ]
  },
  {
   "cell_type": "markdown",
   "metadata": {},
   "source": [
    "We can then load its state dictionary."
   ]
  },
  {
   "cell_type": "code",
   "execution_count": 27,
   "metadata": {},
   "outputs": [],
   "source": [
    "state_dict = torch.load(saved_model_path)\n",
    "loaded_model.load_state_dict(state_dict)"
   ]
  },
  {
   "cell_type": "markdown",
   "metadata": {},
   "source": [
    "Calling `eval()` on the model indicates we plan to use it for inference only, no further training; it is actually necessary if the model includes layers such as Dropout or BatchNorm, not our case."
   ]
  },
  {
   "cell_type": "code",
   "execution_count": 28,
   "metadata": {},
   "outputs": [
    {
     "data": {
      "text/plain": [
       "FunctionalModel(\n",
       ")"
      ]
     },
     "execution_count": 28,
     "metadata": {},
     "output_type": "execute_result"
    }
   ],
   "source": [
    "loaded_model.eval()"
   ]
  },
  {
   "cell_type": "markdown",
   "metadata": {},
   "source": [
    "We then use the restored model to predict the class-numbers for a cuple images."
   ]
  },
  {
   "cell_type": "code",
   "execution_count": 29,
   "metadata": {},
   "outputs": [
    {
     "data": {
      "image/png": "[encoded data removed]",
      "text/plain": [
       "<matplotlib.figure.Figure at 0x7fe198a5b5c0>"
      ]
     },
     "metadata": {},
     "output_type": "display_data"
    }
   ],
   "source": [
    "plot_classified_sample(test_loader, loaded_model)"
   ]
  },
  {
   "cell_type": "markdown",
   "metadata": {},
   "source": [
    "## Visualization of Layer Weights and Outputs"
   ]
  },
  {
   "cell_type": "markdown",
   "metadata": {},
   "source": [
    "### Helper-function for plotting convolutional weights"
   ]
  },
  {
   "cell_type": "code",
   "execution_count": 30,
   "metadata": {},
   "outputs": [],
   "source": [
    "def plot_conv_weights(weights, input_channel=0):\n",
    "    # Get the lowest and highest values for the weights.\n",
    "    # This is used to correct the colour intensity across\n",
    "    # the images so they can be compared with each other.\n",
    "    w_min = np.min(weights)\n",
    "    w_max = np.max(weights)\n",
    "\n",
    "    # Number of filters used in the conv. layer.\n",
    "    num_filters = weights.shape[0]\n",
    "\n",
    "    # Number of grids to plot.\n",
    "    # Rounded-up, square-root of the number of filters.\n",
    "    num_grids = math.ceil(math.sqrt(num_filters))\n",
    "\n",
    "    # Create figure with a grid of sub-plots.\n",
    "    fig, axes = plt.subplots(num_grids, num_grids)\n",
    "\n",
    "    # Plot all the filter-weights.\n",
    "    for i, ax in enumerate(axes.flat):\n",
    "        # Only plot the valid filter-weights.\n",
    "        if i < num_filters:\n",
    "            # Get the weights for the i'th filter of the input channel.\n",
    "            # See new_conv_layer() for details on the format\n",
    "            # of this 4-dim tensor.\n",
    "            img = weights[i, input_channel, :, :]\n",
    "            # img = weights[:, :, input_channel, i]\n",
    "\n",
    "            # Plot image.\n",
    "            ax.imshow(img, vmin=w_min, vmax=w_max,\n",
    "                      interpolation='nearest', cmap='seismic')\n",
    "\n",
    "        # Remove ticks from the plot.\n",
    "        ax.set_xticks([])\n",
    "        ax.set_yticks([])\n",
    "\n",
    "    # Ensure the plot is shown correctly with multiple plots\n",
    "    # in a single Notebook cell.\n",
    "    plt.show()"
   ]
  },
  {
   "cell_type": "markdown",
   "metadata": {},
   "source": [
    "### Get Layers and Weights\n",
    "\n",
    "Listing the layers in a sequential model is a easy as printing it. I am not aware of anything like it usable with a functional model."
   ]
  },
  {
   "cell_type": "code",
   "execution_count": 31,
   "metadata": {},
   "outputs": [
    {
     "name": "stdout",
     "output_type": "stream",
     "text": [
      "Sequential(\n",
      "  (0): Conv2d (1, 16, kernel_size=(5, 5), stride=(1, 1), padding=(2, 2))\n",
      "  (1): ReLU()\n",
      "  (2): MaxPool2d(kernel_size=(2, 2), stride=(2, 2), dilation=(1, 1))\n",
      "  (3): Conv2d (16, 36, kernel_size=(5, 5), stride=(1, 1), padding=(2, 2))\n",
      "  (4): ReLU()\n",
      "  (5): MaxPool2d(kernel_size=(2, 2), stride=(2, 2), dilation=(1, 1))\n",
      "  (6): Flatten()\n",
      "  (7): Linear(in_features=1764, out_features=128)\n",
      "  (8): ReLU()\n",
      "  (9): Linear(in_features=128, out_features=10)\n",
      ")\n"
     ]
    }
   ],
   "source": [
    "print(sequential_model)"
   ]
  },
  {
   "cell_type": "markdown",
   "metadata": {},
   "source": [
    "There is no input layer (unlike with Keras), the first convolutional layer has index 0, and the second has index 3. We can for instance dump the weights of the first convolutional layer."
   ]
  },
  {
   "cell_type": "code",
   "execution_count": 32,
   "metadata": {},
   "outputs": [
    {
     "data": {
      "text/plain": [
       "Parameter containing:\n",
       "(0 ,0 ,.,.) = \n",
       "  5.71e-03 -1.80e-01  1.46e-01 -8.74e-02 -9.55e-02\n",
       "  1.04e-01  1.57e-01 -1.07e-01 -1.91e-01 -1.64e-01\n",
       " -5.58e-02  1.64e-01 -7.78e-02 -2.70e-01 -2.29e-01\n",
       "  7.11e-02  2.13e-01  1.17e-01 -5.38e-03 -1.26e-02\n",
       "  3.52e-02  3.85e-02  1.70e-01  2.54e-01  9.34e-02\n",
       "\n",
       "(1 ,0 ,.,.) = \n",
       " -1.70e-01 -1.42e-01 -1.84e-01 -1.53e-01  2.44e-02\n",
       " -5.68e-02 -1.80e-01 -1.38e-01 -1.03e-01  1.03e-01\n",
       "  1.80e-01  1.83e-01  3.04e-01 -7.52e-02  1.53e-01\n",
       "  1.12e-01  2.02e-01  8.49e-02  1.60e-01 -1.51e-01\n",
       "  1.12e-01 -1.76e-01 -1.05e-01 -1.69e-01  1.41e-02\n",
       "\n",
       "(2 ,0 ,.,.) = \n",
       "  1.77e-01 -4.00e-02  2.07e-01 -2.52e-01 -3.71e-01\n",
       " -1.91e-01  7.59e-02  2.55e-01 -2.93e-02 -1.78e-01\n",
       " -4.63e-02 -2.02e-01  1.71e-02  1.75e-01  2.50e-01\n",
       "  1.03e-01 -5.35e-02  1.44e-01  2.26e-01  1.07e-01\n",
       " -1.39e-01  1.43e-03 -4.01e-02 -9.83e-02 -1.22e-01\n",
       "\n",
       "(3 ,0 ,.,.) = \n",
       "  1.10e-03 -4.02e-02  2.30e-01  3.88e-02 -2.59e-01\n",
       "  1.71e-01 -8.85e-02  1.01e-01  1.02e-01 -2.06e-01\n",
       " -2.78e-01 -1.18e-02  2.06e-01  2.38e-01  1.98e-01\n",
       " -6.88e-02 -2.44e-01  1.19e-01  1.02e-01 -2.60e-02\n",
       " -1.86e-01 -6.86e-02  2.41e-02 -1.41e-01  8.27e-02\n",
       "\n",
       "(4 ,0 ,.,.) = \n",
       "  1.22e-01 -6.37e-02 -1.36e-01 -1.00e-01 -1.17e-01\n",
       " -1.07e-02  6.93e-02 -2.61e-01 -1.22e-02 -2.77e-01\n",
       " -2.65e-03  2.81e-01 -1.22e-01 -5.92e-02 -1.11e-01\n",
       "  6.79e-02  9.60e-02  1.84e-01  2.51e-02  4.69e-02\n",
       " -1.76e-01  1.64e-01  1.42e-01  1.61e-01  1.54e-01\n",
       "\n",
       "(5 ,0 ,.,.) = \n",
       " -1.91e-01 -2.01e-01 -1.92e-01  7.08e-02  2.42e-01\n",
       " -1.47e-01 -3.69e-02  1.69e-02  2.03e-01  4.47e-02\n",
       " -6.38e-02 -6.20e-02  1.67e-01  2.50e-01 -1.18e-01\n",
       "  1.47e-01  7.94e-02  2.15e-01 -3.02e-02 -1.23e-01\n",
       " -5.64e-02 -1.17e-01  1.64e-01  7.40e-02  1.52e-01\n",
       "\n",
       "(6 ,0 ,.,.) = \n",
       "  1.38e-01  1.23e-01  1.32e-01  4.72e-02 -6.65e-02\n",
       "  1.29e-01 -8.49e-02  5.43e-03  2.63e-01  3.08e-01\n",
       " -8.32e-02 -3.74e-02  2.05e-02  6.14e-02 -2.72e-02\n",
       " -2.64e-01 -1.23e-01 -9.17e-02 -2.84e-01 -2.34e-01\n",
       " -5.72e-02 -1.13e-01 -2.43e-01 -1.54e-01 -3.55e-02\n",
       "\n",
       "(7 ,0 ,.,.) = \n",
       " -6.88e-02 -3.77e-02  4.89e-02 -7.64e-02  1.33e-01\n",
       "  2.75e-02  9.88e-02 -1.84e-01  2.33e-01 -3.09e-03\n",
       " -2.27e-01 -1.81e-01 -1.66e-01  1.26e-02  1.44e-02\n",
       " -1.77e-02 -2.26e-01 -2.76e-02  2.71e-01  1.89e-01\n",
       " -2.68e-01 -2.52e-01  1.40e-02  1.39e-01  1.95e-01\n",
       "\n",
       "(8 ,0 ,.,.) = \n",
       " -1.17e-01 -1.06e-01  1.14e-01  1.57e-01 -1.05e-01\n",
       "  4.45e-02  4.38e-04  4.42e-02 -1.43e-01 -1.06e-01\n",
       "  3.62e-02  9.55e-02  1.71e-01 -1.62e-01 -3.18e-01\n",
       "  7.86e-02  2.50e-01 -6.39e-02 -8.86e-02 -2.51e-01\n",
       "  9.47e-02  1.95e-01  2.40e-01  1.29e-01 -1.39e-01\n",
       "\n",
       "(9 ,0 ,.,.) = \n",
       "  6.86e-02 -1.52e-01  9.25e-02  8.44e-03  2.90e-01\n",
       " -2.29e-01  1.38e-01 -4.42e-02 -3.30e-02  1.19e-01\n",
       "  1.29e-01  1.43e-01  2.70e-01  2.13e-01  3.14e-02\n",
       "  2.75e-02 -9.29e-02 -1.42e-01 -2.89e-01 -2.83e-01\n",
       "  1.69e-01 -8.88e-02 -1.26e-01 -2.25e-01 -3.81e-02\n",
       "\n",
       "(10,0 ,.,.) = \n",
       "  1.28e-01  1.64e-01  1.82e-01 -8.04e-02 -1.58e-01\n",
       "  5.69e-02  1.18e-01 -9.44e-03  5.22e-02 -2.60e-01\n",
       "  2.03e-01  2.07e-01 -1.12e-01 -2.50e-02 -2.48e-01\n",
       "  1.10e-01 -9.14e-02  1.08e-01 -1.55e-01 -1.11e-01\n",
       "  1.22e-01  1.02e-01 -2.49e-02 -6.93e-02 -9.69e-02\n",
       "\n",
       "(11,0 ,.,.) = \n",
       " -2.83e-02 -2.85e-01 -2.42e-01 -1.85e-01 -2.20e-01\n",
       " -1.58e-01 -1.49e-01 -2.86e-01 -2.82e-03  1.11e-01\n",
       " -8.87e-02  1.11e-01 -6.15e-02 -9.95e-03  3.81e-02\n",
       " -5.75e-02  2.76e-01  2.60e-01  1.57e-01  2.17e-01\n",
       "  1.54e-01  1.12e-01  2.58e-01  1.72e-01 -9.36e-02\n",
       "\n",
       "(12,0 ,.,.) = \n",
       " -1.10e-01  1.81e-01  1.43e-01 -1.42e-01 -2.58e-01\n",
       "  3.99e-02 -1.07e-01 -1.00e-01 -2.00e-01  2.69e-02\n",
       " -1.10e-01 -1.93e-02  2.97e-02  1.99e-01  2.24e-02\n",
       "  9.64e-02  2.68e-02  5.17e-02  9.81e-02 -1.54e-01\n",
       "  7.79e-02  1.52e-02  9.78e-02  8.45e-02  1.80e-01\n",
       "\n",
       "(13,0 ,.,.) = \n",
       "  6.60e-02  1.41e-01  1.37e-01  2.01e-01  3.70e-02\n",
       "  2.51e-02 -1.37e-01 -9.63e-02  1.88e-01 -1.64e-01\n",
       "  1.78e-01  4.79e-02  2.15e-02  8.47e-02  2.04e-01\n",
       "  6.32e-02  1.85e-01 -8.57e-02 -1.59e-02  9.23e-02\n",
       " -6.08e-02  1.81e-01 -9.10e-02 -1.26e-01  1.73e-01\n",
       "\n",
       "(14,0 ,.,.) = \n",
       "  4.69e-02  2.51e-01  8.52e-02  3.17e-01  9.70e-03\n",
       "  2.89e-01  2.12e-01 -2.50e-02  1.40e-01  7.85e-02\n",
       "  5.29e-02 -2.16e-01 -1.86e-01 -1.89e-01 -1.23e-01\n",
       " -2.86e-01 -6.28e-02 -2.66e-01 -4.39e-02  3.71e-02\n",
       " -2.64e-01 -3.51e-01 -3.13e-02 -1.75e-02  1.78e-01\n",
       "\n",
       "(15,0 ,.,.) = \n",
       " -4.92e-02 -1.67e-01 -5.70e-02 -2.04e-01 -2.25e-02\n",
       " -1.09e-02 -1.33e-01 -7.71e-02 -1.71e-01  2.12e-01\n",
       " -1.56e-01 -1.55e-02 -2.03e-01 -6.25e-02  2.46e-01\n",
       "  5.79e-02 -2.16e-01  1.80e-02  2.56e-01  6.48e-02\n",
       " -1.89e-01  4.09e-02 -9.32e-02  2.84e-02  1.44e-01\n",
       "[torch.cuda.FloatTensor of size 16x1x5x5 (GPU 0)]"
      ]
     },
     "execution_count": 32,
     "metadata": {},
     "output_type": "execute_result"
    }
   ],
   "source": [
    "torch.set_printoptions(profile='short')\n",
    "sequential_model[0].weight"
   ]
  },
  {
   "cell_type": "markdown",
   "metadata": {},
   "source": [
    "Accessing the weights in the functional model requires us to look at the source code, instead. For instance, the second convolutional layer weight is an attribute of the model object with name `conv2_w`."
   ]
  },
  {
   "cell_type": "code",
   "execution_count": 33,
   "metadata": {},
   "outputs": [
    {
     "name": "stdout",
     "output_type": "stream",
     "text": [
      "Parameter containing:\n",
      "(0 ,0 ,.,.) = \n",
      " -2.05e-01  2.04e-01  ...  -2.62e-02 -1.85e-01\n",
      " -4.64e-02  1.96e-01  ...  -1.26e-01  7.18e-02\n",
      "         ...           ⋱           ...        \n",
      " -2.11e-01  1.76e-01  ...   2.17e-01  8.58e-02\n",
      "  1.09e-01 -5.63e-02  ...   2.13e-03 -1.44e-01\n",
      "\n",
      "(0 ,1 ,.,.) = \n",
      " -2.68e-02  9.83e-02  ...   6.65e-02 -2.38e-01\n",
      "  5.19e-03 -1.18e-01  ...  -1.35e-01  1.69e-01\n",
      "         ...           ⋱           ...        \n",
      "  4.29e-02  1.66e-01  ...   5.52e-02 -2.46e-01\n",
      " -1.78e-01  1.71e-01  ...   3.43e-02  3.70e-02\n",
      "   ...\n",
      "\n",
      "(0 ,14,.,.) = \n",
      " -1.57e-01 -5.69e-02  ...   2.54e-01  1.67e-01\n",
      "  1.52e-01 -1.44e-01  ...  -2.55e-01 -6.97e-02\n",
      "         ...           ⋱           ...        \n",
      " -6.41e-02 -9.14e-02  ...   1.03e-01 -1.90e-02\n",
      "  1.73e-02  6.46e-02  ...   1.23e-01  1.76e-01\n",
      "\n",
      "(0 ,15,.,.) = \n",
      "  6.85e-02  4.66e-02  ...   3.46e-02 -4.03e-02\n",
      "  6.59e-02 -1.96e-01  ...   9.77e-02 -2.07e-01\n",
      "         ...           ⋱           ...        \n",
      "  5.79e-02 -9.20e-02  ...  -3.65e-02  1.25e-01\n",
      "  1.55e-01 -9.78e-02  ...  -2.19e-01 -2.11e-02\n",
      "     ⋮ \n",
      "\n",
      "(1 ,0 ,.,.) = \n",
      "  2.63e-01  2.34e-01  ...  -2.95e-01 -1.15e-01\n",
      " -1.67e-01  5.07e-02  ...   1.55e-01 -1.95e-01\n",
      "         ...           ⋱           ...        \n",
      " -2.18e-01 -1.25e-02  ...   1.13e-01  6.31e-02\n",
      "  1.48e-01 -1.01e-01  ...  -2.15e-01 -2.71e-03\n",
      "\n",
      "(1 ,1 ,.,.) = \n",
      " -2.34e-01 -2.31e-01  ...  -2.50e-01 -5.51e-02\n",
      "  1.40e-01 -2.30e-01  ...   1.81e-01 -1.36e-01\n",
      "         ...           ⋱           ...        \n",
      " -5.93e-02  1.79e-02  ...   2.19e-01  2.10e-01\n",
      "  8.74e-02  2.00e-01  ...   6.87e-02  1.56e-01\n",
      "   ...\n",
      "\n",
      "(1 ,14,.,.) = \n",
      "  1.52e-01 -2.98e-01  ...  -3.04e-02  1.80e-01\n",
      " -9.30e-02 -1.44e-01  ...   1.49e-01  7.16e-02\n",
      "         ...           ⋱           ...        \n",
      " -8.24e-03  1.07e-01  ...  -2.07e-01 -2.42e-01\n",
      " -1.73e-01 -1.30e-01  ...  -1.19e-01 -3.67e-02\n",
      "\n",
      "(1 ,15,.,.) = \n",
      " -2.84e-02 -6.31e-02  ...   2.13e-01 -1.33e-01\n",
      " -2.54e-02  1.64e-01  ...   6.18e-02 -9.72e-02\n",
      "         ...           ⋱           ...        \n",
      " -1.38e-01 -1.87e-01  ...  -8.17e-02  1.35e-01\n",
      "  4.67e-02 -1.70e-01  ...   2.15e-01 -1.09e-01\n",
      "...   \n",
      "     ⋮ \n",
      "\n",
      "(34,0 ,.,.) = \n",
      "  2.32e-01 -1.53e-01  ...  -2.09e-01 -1.73e-01\n",
      "  1.70e-01 -1.48e-01  ...   6.62e-02 -7.63e-02\n",
      "         ...           ⋱           ...        \n",
      " -1.70e-01  1.01e-01  ...  -1.69e-01 -2.18e-01\n",
      "  1.05e-01 -9.92e-02  ...   1.23e-01  7.85e-02\n",
      "\n",
      "(34,1 ,.,.) = \n",
      " -2.03e-01 -2.28e-01  ...   1.28e-01  6.05e-02\n",
      "  1.24e-01 -2.18e-01  ...   2.90e-02  3.22e-01\n",
      "         ...           ⋱           ...        \n",
      " -7.14e-02  2.72e-02  ...  -1.98e-01  2.29e-01\n",
      " -1.54e-01  1.77e-01  ...   7.40e-02  1.70e-01\n",
      "   ...\n",
      "\n",
      "(34,14,.,.) = \n",
      "  1.82e-01  2.49e-01  ...  -2.26e-01  1.35e-01\n",
      " -1.70e-01  2.18e-01  ...  -2.45e-01 -2.56e-01\n",
      "         ...           ⋱           ...        \n",
      "  7.18e-02  4.35e-02  ...  -1.26e-01 -4.05e-02\n",
      "  9.18e-02 -1.28e-01  ...  -7.34e-02  1.44e-01\n",
      "\n",
      "(34,15,.,.) = \n",
      " -1.31e-01  5.71e-02  ...   1.38e-01  9.01e-02\n",
      "  1.78e-01  6.50e-02  ...  -5.41e-02 -1.38e-01\n",
      "         ...           ⋱           ...        \n",
      " -2.80e-01 -7.27e-02  ...   8.83e-02 -2.09e-01\n",
      " -1.18e-01 -1.18e-01  ...   2.51e-02 -1.14e-01\n",
      "     ⋮ \n",
      "\n",
      "(35,0 ,.,.) = \n",
      " -1.26e-01 -7.74e-02  ...   2.34e-01  1.20e-01\n",
      "  1.35e-02  7.27e-03  ...  -1.41e-01 -2.17e-01\n",
      "         ...           ⋱           ...        \n",
      "  9.55e-03  2.91e-02  ...  -2.18e-01  1.77e-01\n",
      "  1.11e-01 -2.39e-01  ...   9.74e-02 -2.15e-01\n",
      "\n",
      "(35,1 ,.,.) = \n",
      "  2.46e-01 -1.50e-01  ...   9.07e-02 -5.94e-02\n",
      "  1.72e-01  5.77e-02  ...   1.38e-01 -2.05e-01\n",
      "         ...           ⋱           ...        \n",
      "  2.34e-01  1.44e-01  ...  -1.06e-01  2.09e-01\n",
      " -2.23e-01 -1.05e-02  ...   1.43e-01 -2.63e-01\n",
      "   ...\n",
      "\n",
      "(35,14,.,.) = \n",
      "  3.03e-02 -1.39e-01  ...   1.36e-01 -1.46e-01\n",
      " -1.41e-01  8.66e-02  ...   4.27e-02 -7.12e-02\n",
      "         ...           ⋱           ...        \n",
      "  2.67e-02 -2.30e-01  ...   8.32e-02  3.24e-01\n",
      "  4.99e-02  1.78e-01  ...  -2.25e-01 -1.68e-01\n",
      "\n",
      "(35,15,.,.) = \n",
      "  1.63e-01  8.50e-02  ...   2.78e-02  1.20e-01\n",
      " -1.27e-01  7.83e-04  ...  -6.78e-02  1.35e-01\n",
      "         ...           ⋱           ...        \n",
      "  8.49e-02  2.16e-01  ...  -1.03e-01 -2.08e-01\n",
      "  1.50e-01 -1.57e-01  ...   2.62e-01  2.43e-01\n",
      "[torch.cuda.FloatTensor of size 36x16x5x5 (GPU 0)]\n",
      "\n"
     ]
    }
   ],
   "source": [
    "print(loaded_model.conv2_w)"
   ]
  },
  {
   "cell_type": "markdown",
   "metadata": {},
   "source": [
    "### Convolutional Weights\n",
    "\n",
    "In order to plot the weights, we take them from the GPU memory into the CPU memory and then convert them to a Numpy array. Conversion to Numpy arrays is only supported for tensors in the CPU memory. Note that the call to `cpu()` will have no effect if the tensor is in the CPU memory already.\n",
    "\n",
    "We first plot the weights of the first convolutional layer from the sequential model."
   ]
  },
  {
   "cell_type": "code",
   "execution_count": 34,
   "metadata": {
    "scrolled": true
   },
   "outputs": [
    {
     "data": {
      "image/png": "[encoded data removed]",
      "text/plain": [
       "<matplotlib.figure.Figure at 0x7fe1387a57b8>"
      ]
     },
     "metadata": {},
     "output_type": "display_data"
    }
   ],
   "source": [
    "plot_conv_weights(sequential_model[0].weight.data.cpu().numpy())"
   ]
  },
  {
   "cell_type": "markdown",
   "metadata": {},
   "source": [
    "Then the weights of the second convolutional layer from the functional model."
   ]
  },
  {
   "cell_type": "code",
   "execution_count": 35,
   "metadata": {
    "scrolled": true
   },
   "outputs": [
    {
     "data": {
      "image/png": "[encoded data removed]",
      "text/plain": [
       "<matplotlib.figure.Figure at 0x7fe1ac75fa20>"
      ]
     },
     "metadata": {},
     "output_type": "display_data"
    }
   ],
   "source": [
    "plot_conv_weights(loaded_model.conv2_w.data.cpu().numpy())"
   ]
  },
  {
   "cell_type": "markdown",
   "metadata": {},
   "source": [
    "### Helper-function for plotting the output of a convolutional layer"
   ]
  },
  {
   "cell_type": "code",
   "execution_count": 36,
   "metadata": {},
   "outputs": [],
   "source": [
    "def plot_conv_output(values):\n",
    "    # Number of filters used in the conv. layer.\n",
    "    num_filters = values.shape[1]\n",
    "\n",
    "    # Number of grids to plot.\n",
    "    # Rounded-up, square-root of the number of filters.\n",
    "    num_grids = math.ceil(math.sqrt(num_filters))\n",
    "\n",
    "    # Create figure with a grid of sub-plots.\n",
    "    fig, axes = plt.subplots(num_grids, num_grids)\n",
    "\n",
    "    # Plot the output images of all the filters.\n",
    "    for i, ax in enumerate(axes.flat):\n",
    "        # Only plot the images for valid filters.\n",
    "        if i < num_filters:\n",
    "            # Get the output image of using the i'th filter.\n",
    "            img = values[0, i, :, :]\n",
    "\n",
    "            # Plot image.\n",
    "            ax.imshow(img, interpolation='nearest', cmap='binary')\n",
    "\n",
    "        # Remove ticks from the plot.\n",
    "        ax.set_xticks([])\n",
    "        ax.set_yticks([])\n",
    "\n",
    "    # Ensure the plot is shown correctly with multiple plots\n",
    "    # in a single Notebook cell.\n",
    "    plt.show()"
   ]
  },
  {
   "cell_type": "markdown",
   "metadata": {},
   "source": [
    "### Input Image\n",
    "\n",
    "Helper-function for plotting a single image."
   ]
  },
  {
   "cell_type": "code",
   "execution_count": 37,
   "metadata": {},
   "outputs": [],
   "source": [
    "def plot_image(image):\n",
    "    plt.imshow(image.reshape(img_shape),\n",
    "               interpolation='nearest',\n",
    "               cmap='binary')\n",
    "\n",
    "    plt.show()"
   ]
  },
  {
   "cell_type": "markdown",
   "metadata": {},
   "source": [
    "Plot an image from the test-set which will be used as an example below."
   ]
  },
  {
   "cell_type": "code",
   "execution_count": 38,
   "metadata": {
    "scrolled": true
   },
   "outputs": [
    {
     "data": {
      "image/png": "[encoded data removed]",
      "text/plain": [
       "<matplotlib.figure.Figure at 0x7fe13821a588>"
      ]
     },
     "metadata": {},
     "output_type": "display_data"
    }
   ],
   "source": [
    "sample_data_iter = iter(test_loader)\n",
    "images, _ = sample_data_iter.next()\n",
    "plot_image(images[0].numpy())"
   ]
  },
  {
   "cell_type": "markdown",
   "metadata": {},
   "source": [
    "### Output of Convolutional Layer - Sequential Model\n",
    "\n",
    "To capture the output of the second convolutional layer, we copy the already trained sequential model into a new model, but only down to its second convolutional layer included. The copied layers bring along the parameter values as optimized during the training. Then we use the new model for inference."
   ]
  },
  {
   "cell_type": "code",
   "execution_count": 39,
   "metadata": {},
   "outputs": [],
   "source": [
    "# Change [0:4] to [0:1] here below to access the output of the first convolutional layer instead\n",
    "sub_model = nn.Sequential(*list(sequential_model.children())[0:4])"
   ]
  },
  {
   "cell_type": "markdown",
   "metadata": {},
   "source": [
    "We can check that the new model is the same as the previously trained model down to the wanted layer."
   ]
  },
  {
   "cell_type": "code",
   "execution_count": 40,
   "metadata": {},
   "outputs": [
    {
     "name": "stdout",
     "output_type": "stream",
     "text": [
      "Sequential(\n",
      "  (0): Conv2d (1, 16, kernel_size=(5, 5), stride=(1, 1), padding=(2, 2))\n",
      "  (1): ReLU()\n",
      "  (2): MaxPool2d(kernel_size=(2, 2), stride=(2, 2), dilation=(1, 1))\n",
      "  (3): Conv2d (16, 36, kernel_size=(5, 5), stride=(1, 1), padding=(2, 2))\n",
      ")\n"
     ]
    }
   ],
   "source": [
    "print(sub_model)"
   ]
  },
  {
   "cell_type": "markdown",
   "metadata": {},
   "source": [
    "Now we feed the input image to the model just defined, and its output coincides with the output of the second convolutional layer of the starting model. We can plot the output."
   ]
  },
  {
   "cell_type": "code",
   "execution_count": 41,
   "metadata": {
    "scrolled": false
   },
   "outputs": [
    {
     "data": {
      "image/png": "[encoded data removed]",
      "text/plain": [
       "<matplotlib.figure.Figure at 0x7fe144b6a710>"
      ]
     },
     "metadata": {},
     "output_type": "display_data"
    }
   ],
   "source": [
    "if cuda:\n",
    "    images = images.cuda()\n",
    "images = images[0:1]\n",
    "images = Variable(images, volatile=True)\n",
    "conv1_output = sub_model(images)\n",
    "plot_conv_output(conv1_output.data.cpu().numpy())"
   ]
  },
  {
   "cell_type": "markdown",
   "metadata": {},
   "source": [
    "## Conclusion\n",
    "\n",
    "This tutorial showed how to use Pytorch to build and train a Convolutional Neural Network, using either the functional API or the sequential API. Comparing it with the original tutorial based on Tensorflow and Keras, I would say that the Pytorch API has a level of abstraction closer to Tensorflow than Keras, allowing to define the computational graph node by node. \n",
    "\n",
    "Pytorch also allows to do it layer by layer, in a similar way to Keras. However, more programming is needed compared to Keras, as we had to write our own code to run the optimization of the NN and test its accuracy; this contrasts with Keras, that, once the model is defined, just requires to \"compile\" it, choosing a loss function and an optimization algorithm.\n",
    "\n",
    "This tutorial also showed how to use Pytorch to save and load a model, as well as getting the weights and outputs of convolutional layers.\n",
    "\n",
    "Even while implementing the straightforward model of the tutorial, I appreciated how easier it is to debug than with Keras and Tensorflow.  "
   ]
  },
  {
   "cell_type": "markdown",
   "metadata": {},
   "source": [
    "## License (MIT)\n",
    "\n",
    "Copyright (c) 2017 by Francesco G. Fantauzzi\n",
    "\n",
    "Copyright (c) 2016-2017 by [Magnus Erik Hvass Pedersen](http://www.hvass-labs.org/)\n",
    "\n",
    "Permission is hereby granted, free of charge, to any person obtaining a copy of this software and associated documentation files (the \"Software\"), to deal in the Software without restriction, including without limitation the rights to use, copy, modify, merge, publish, distribute, sublicense, and/or sell copies of the Software, and to permit persons to whom the Software is furnished to do so, subject to the following conditions:\n",
    "\n",
    "The above copyright notice and this permission notice shall be included in all copies or substantial portions of the Software.\n",
    "\n",
    "THE SOFTWARE IS PROVIDED \"AS IS\", WITHOUT WARRANTY OF ANY KIND, EXPRESS OR IMPLIED, INCLUDING BUT NOT LIMITED TO THE WARRANTIES OF MERCHANTABILITY, FITNESS FOR A PARTICULAR PURPOSE AND NONINFRINGEMENT. IN NO EVENT SHALL THE AUTHORS OR COPYRIGHT HOLDERS BE LIABLE FOR ANY CLAIM, DAMAGES OR OTHER LIABILITY, WHETHER IN AN ACTION OF CONTRACT, TORT OR OTHERWISE, ARISING FROM, OUT OF OR IN CONNECTION WITH THE SOFTWARE OR THE USE OR OTHER DEALINGS IN THE SOFTWARE."
   ]
  }
 ],
 "metadata": {
  "anaconda-cloud": {},
  "kernelspec": {
   "display_name": "Python 3",
   "language": "python",
   "name": "python3"
  },
  "language_info": {
   "codemirror_mode": {
    "name": "ipython",
    "version": 3
   },
   "file_extension": ".py",
   "mimetype": "text/x-python",
   "name": "python",
   "nbconvert_exporter": "python",
   "pygments_lexer": "ipython3",
   "version": "3.5.2"
  }
 },
 "nbformat": 4,
 "nbformat_minor": 1
}
